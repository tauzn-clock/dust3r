{
 "cells": [
  {
   "cell_type": "code",
   "execution_count": 1,
   "metadata": {},
   "outputs": [
    {
     "name": "stdout",
     "output_type": "stream",
     "text": [
      "/dust3r\n"
     ]
    }
   ],
   "source": [
    "import os\n",
    "os.chdir(\"/dust3r\")\n",
    "print(os.getcwd())"
   ]
  },
  {
   "cell_type": "code",
   "execution_count": 2,
   "metadata": {},
   "outputs": [
    {
     "name": "stdout",
     "output_type": "stream",
     "text": [
      "Jupyter environment detected. Enabling Open3D WebVisualizer.\n",
      "[Open3D INFO] WebRTC GUI backend enabled.\n",
      "[Open3D INFO] WebRTCWindowSystem: HTTP handshake server disabled.\n",
      "Warning, cannot find cuda-compiled version of RoPE2D, using a slow pytorch version instead\n"
     ]
    },
    {
     "name": "stderr",
     "output_type": "stream",
     "text": [
      "/dust3r/dust3r/cloud_opt/base_opt.py:275: FutureWarning: `torch.cuda.amp.autocast(args...)` is deprecated. Please use `torch.amp.autocast('cuda', args...)` instead.\n",
      "  @torch.cuda.amp.autocast(enabled=False)\n",
      "/dust3r/dust3r/cloud_opt/plane_optimizer.py:115: FutureWarning: `torch.cuda.amp.autocast(args...)` is deprecated. Please use `torch.amp.autocast('cuda', args...)` instead.\n",
      "  @torch.cuda.amp.autocast(enabled=False)\n"
     ]
    }
   ],
   "source": [
    "import open3d as o3d\n",
    "import numpy as np\n",
    "\n",
    "from dust3r.inference import inference\n",
    "from dust3r.model import AsymmetricCroCo3DStereo\n",
    "from dust3r.utils.image import load_images\n",
    "from dust3r.image_pairs import make_pairs\n",
    "from dust3r.cloud_opt import global_aligner, GlobalAlignerMode\n",
    "from optimiser_weighted import inference_weighted\n",
    "\n",
    "device = 'cuda'\n",
    "batch_size = 1\n",
    "schedule = 'cosine'\n",
    "lr = 0.01\n",
    "niter = 300\n",
    "\n",
    "DATA_PATH = \"/scratchdata/indoor_lift\""
   ]
  },
  {
   "cell_type": "code",
   "execution_count": 3,
   "metadata": {},
   "outputs": [
    {
     "name": "stderr",
     "output_type": "stream",
     "text": [
      "/dust3r/dust3r/model.py:30: FutureWarning: You are using `torch.load` with `weights_only=False` (the current default value), which uses the default pickle module implicitly. It is possible to construct malicious pickle data which will execute arbitrary code during unpickling (See https://github.com/pytorch/pytorch/blob/main/SECURITY.md#untrusted-models for more details). In a future release, the default value for `weights_only` will be flipped to `True`. This limits the functions that could be executed during unpickling. Arbitrary objects will no longer be allowed to be loaded via this mode unless they are explicitly allowlisted by the user via `torch.serialization.add_safe_globals`. We recommend you start setting `weights_only=True` for any use case where you don't have full control of the loaded file. Please open an issue on GitHub for any issues related to this experimental feature.\n",
      "  ckpt = torch.load(model_path, map_location='cpu')\n"
     ]
    },
    {
     "name": "stdout",
     "output_type": "stream",
     "text": [
      "... loading model from /scratchdata/MonST3R_PO-TA-S-W_ViTLarge_BaseDecoder_512_dpt.pth\n",
      "instantiating : AsymmetricCroCo3DStereo(pos_embed='RoPE100', patch_embed_cls='PatchEmbedDust3R', img_size=(512, 512), head_type='dpt', output_mode='pts3d', depth_mode=('exp', -inf, inf), conf_mode=('exp', 1, inf), enc_embed_dim=1024, enc_depth=24, enc_num_heads=16, dec_embed_dim=768, dec_depth=12, dec_num_heads=12, freeze='encoder', landscape_only=False)\n",
      "<All keys matched successfully>\n"
     ]
    }
   ],
   "source": [
    "model_name = \"/scratchdata/MonST3R_PO-TA-S-W_ViTLarge_BaseDecoder_512_dpt.pth\"\n",
    "model = AsymmetricCroCo3DStereo.from_pretrained(model_name).to(device)"
   ]
  },
  {
   "cell_type": "code",
   "execution_count": 4,
   "metadata": {},
   "outputs": [
    {
     "name": "stdout",
     "output_type": "stream",
     "text": [
      ">> Loading a list of 62 images\n",
      " - adding /scratchdata/indoor_lift/rgb/0.png with resolution 640x400 --> 512x320\n",
      " - adding /scratchdata/indoor_lift/rgb/30.png with resolution 640x400 --> 512x320\n",
      " - adding /scratchdata/indoor_lift/rgb/60.png with resolution 640x400 --> 512x320\n",
      " - adding /scratchdata/indoor_lift/rgb/90.png with resolution 640x400 --> 512x320\n",
      " - adding /scratchdata/indoor_lift/rgb/120.png with resolution 640x400 --> 512x320\n",
      " - adding /scratchdata/indoor_lift/rgb/150.png with resolution 640x400 --> 512x320\n",
      " - adding /scratchdata/indoor_lift/rgb/180.png with resolution 640x400 --> 512x320\n",
      " - adding /scratchdata/indoor_lift/rgb/210.png with resolution 640x400 --> 512x320\n",
      " - adding /scratchdata/indoor_lift/rgb/240.png with resolution 640x400 --> 512x320\n",
      " - adding /scratchdata/indoor_lift/rgb/270.png with resolution 640x400 --> 512x320\n",
      " - adding /scratchdata/indoor_lift/rgb/300.png with resolution 640x400 --> 512x320\n"
     ]
    },
    {
     "name": "stdout",
     "output_type": "stream",
     "text": [
      " - adding /scratchdata/indoor_lift/rgb/330.png with resolution 640x400 --> 512x320\n",
      " - adding /scratchdata/indoor_lift/rgb/360.png with resolution 640x400 --> 512x320\n",
      " - adding /scratchdata/indoor_lift/rgb/390.png with resolution 640x400 --> 512x320\n",
      " - adding /scratchdata/indoor_lift/rgb/420.png with resolution 640x400 --> 512x320\n",
      " - adding /scratchdata/indoor_lift/rgb/450.png with resolution 640x400 --> 512x320\n",
      " - adding /scratchdata/indoor_lift/rgb/480.png with resolution 640x400 --> 512x320\n",
      " - adding /scratchdata/indoor_lift/rgb/510.png with resolution 640x400 --> 512x320\n",
      " - adding /scratchdata/indoor_lift/rgb/540.png with resolution 640x400 --> 512x320\n",
      " - adding /scratchdata/indoor_lift/rgb/570.png with resolution 640x400 --> 512x320\n",
      " - adding /scratchdata/indoor_lift/rgb/600.png with resolution 640x400 --> 512x320\n",
      " - adding /scratchdata/indoor_lift/rgb/630.png with resolution 640x400 --> 512x320\n",
      " - adding /scratchdata/indoor_lift/rgb/660.png with resolution 640x400 --> 512x320\n",
      " - adding /scratchdata/indoor_lift/rgb/690.png with resolution 640x400 --> 512x320\n",
      " - adding /scratchdata/indoor_lift/rgb/720.png with resolution 640x400 --> 512x320\n",
      " - adding /scratchdata/indoor_lift/rgb/750.png with resolution 640x400 --> 512x320\n",
      " - adding /scratchdata/indoor_lift/rgb/780.png with resolution 640x400 --> 512x320\n",
      " - adding /scratchdata/indoor_lift/rgb/810.png with resolution 640x400 --> 512x320\n",
      " - adding /scratchdata/indoor_lift/rgb/840.png with resolution 640x400 --> 512x320\n",
      " - adding /scratchdata/indoor_lift/rgb/870.png with resolution 640x400 --> 512x320\n",
      " - adding /scratchdata/indoor_lift/rgb/900.png with resolution 640x400 --> 512x320\n",
      " - adding /scratchdata/indoor_lift/rgb/930.png with resolution 640x400 --> 512x320\n",
      " - adding /scratchdata/indoor_lift/rgb/960.png with resolution 640x400 --> 512x320\n",
      " - adding /scratchdata/indoor_lift/rgb/990.png with resolution 640x400 --> 512x320\n",
      " - adding /scratchdata/indoor_lift/rgb/1020.png with resolution 640x400 --> 512x320\n",
      " - adding /scratchdata/indoor_lift/rgb/1050.png with resolution 640x400 --> 512x320\n",
      " - adding /scratchdata/indoor_lift/rgb/1080.png with resolution 640x400 --> 512x320\n",
      " - adding /scratchdata/indoor_lift/rgb/1110.png with resolution 640x400 --> 512x320\n",
      " - adding /scratchdata/indoor_lift/rgb/1140.png with resolution 640x400 --> 512x320\n",
      " - adding /scratchdata/indoor_lift/rgb/1170.png with resolution 640x400 --> 512x320\n",
      " - adding /scratchdata/indoor_lift/rgb/1200.png with resolution 640x400 --> 512x320\n",
      " - adding /scratchdata/indoor_lift/rgb/1230.png with resolution 640x400 --> 512x320\n",
      " - adding /scratchdata/indoor_lift/rgb/1260.png with resolution 640x400 --> 512x320\n",
      " - adding /scratchdata/indoor_lift/rgb/1290.png with resolution 640x400 --> 512x320\n",
      " - adding /scratchdata/indoor_lift/rgb/1320.png with resolution 640x400 --> 512x320\n",
      " - adding /scratchdata/indoor_lift/rgb/1350.png with resolution 640x400 --> 512x320\n",
      " - adding /scratchdata/indoor_lift/rgb/1380.png with resolution 640x400 --> 512x320\n",
      " - adding /scratchdata/indoor_lift/rgb/1410.png with resolution 640x400 --> 512x320\n",
      " - adding /scratchdata/indoor_lift/rgb/1440.png with resolution 640x400 --> 512x320\n",
      " - adding /scratchdata/indoor_lift/rgb/1470.png with resolution 640x400 --> 512x320\n",
      " - adding /scratchdata/indoor_lift/rgb/1500.png with resolution 640x400 --> 512x320\n",
      " - adding /scratchdata/indoor_lift/rgb/1530.png with resolution 640x400 --> 512x320\n",
      " - adding /scratchdata/indoor_lift/rgb/1560.png with resolution 640x400 --> 512x320\n",
      " - adding /scratchdata/indoor_lift/rgb/1590.png with resolution 640x400 --> 512x320\n",
      " - adding /scratchdata/indoor_lift/rgb/1620.png with resolution 640x400 --> 512x320\n",
      " - adding /scratchdata/indoor_lift/rgb/1650.png with resolution 640x400 --> 512x320\n",
      " - adding /scratchdata/indoor_lift/rgb/1680.png with resolution 640x400 --> 512x320\n",
      " - adding /scratchdata/indoor_lift/rgb/1710.png with resolution 640x400 --> 512x320\n",
      " - adding /scratchdata/indoor_lift/rgb/1740.png with resolution 640x400 --> 512x320\n",
      " - adding /scratchdata/indoor_lift/rgb/1770.png with resolution 640x400 --> 512x320\n",
      " - adding /scratchdata/indoor_lift/rgb/1800.png with resolution 640x400 --> 512x320\n",
      " - adding /scratchdata/indoor_lift/rgb/1830.png with resolution 640x400 --> 512x320\n",
      " (Found 62 images)\n"
     ]
    }
   ],
   "source": [
    "images_array = []\n",
    "\n",
    "for i in range(0,1858,30):\n",
    "    images_array.append(os.path.join(DATA_PATH,\"rgb/{}.png\".format(i)))\n",
    "images = load_images(images_array, size=512, verbose=True)"
   ]
  },
  {
   "cell_type": "code",
   "execution_count": 5,
   "metadata": {},
   "outputs": [
    {
     "name": "stdout",
     "output_type": "stream",
     "text": [
      ">> Inference with model on 372 image pairs\n"
     ]
    },
    {
     "name": "stderr",
     "output_type": "stream",
     "text": [
      "  0%|          | 0/372 [00:00<?, ?it/s]/dust3r/dust3r/inference.py:44: FutureWarning: `torch.cuda.amp.autocast(args...)` is deprecated. Please use `torch.amp.autocast('cuda', args...)` instead.\n",
      "  with torch.cuda.amp.autocast(enabled=bool(use_amp)):\n",
      "/dust3r/dust3r/model.py:205: FutureWarning: `torch.cuda.amp.autocast(args...)` is deprecated. Please use `torch.amp.autocast('cuda', args...)` instead.\n",
      "  with torch.cuda.amp.autocast(enabled=False):\n",
      "/dust3r/dust3r/inference.py:48: FutureWarning: `torch.cuda.amp.autocast(args...)` is deprecated. Please use `torch.amp.autocast('cuda', args...)` instead.\n",
      "  with torch.cuda.amp.autocast(enabled=False):\n",
      "100%|██████████| 372/372 [01:31<00:00,  4.07it/s]\n"
     ]
    }
   ],
   "source": [
    "pairs = make_pairs(images, scene_graph='swin-3', prefilter=None, symmetrize=True)\n",
    "output = inference(pairs, model, device, batch_size=batch_size)"
   ]
  },
  {
   "cell_type": "code",
   "execution_count": 6,
   "metadata": {},
   "outputs": [
    {
     "name": "stdout",
     "output_type": "stream",
     "text": [
      " init edge (2*,4*) score=265.015869140625\n",
      " init edge (1*,4) score=257.3829650878906\n",
      " init edge (1,3*) score=255.63870239257812\n",
      " init edge (1,61*) score=252.15870666503906\n",
      " init edge (2,5*) score=242.8963165283203\n",
      " init edge (4,6*) score=232.4735870361328\n",
      " init edge (4,7*) score=189.1025848388672\n",
      " init edge (5,8*) score=168.43032836914062\n",
      " init edge (6,9*) score=113.43773651123047\n",
      " init edge (8,10*) score=53.9981575012207\n",
      " init edge (60*,61) score=261.3708801269531\n",
      " init edge (0*,61) score=252.37081909179688\n",
      " init edge (59*,60) score=247.49317932128906\n",
      " init edge (58*,59) score=225.33670043945312\n",
      " init edge (57*,58) score=145.34097290039062\n",
      " init edge (56*,57) score=179.1665802001953\n",
      " init edge (55*,56) score=131.88539123535156\n",
      " init edge (54*,55) score=143.6730499267578\n",
      " init edge (53*,54) score=143.48680114746094\n",
      " init edge (52*,53) score=131.4656219482422\n",
      " init edge (50*,52) score=115.68419647216797\n",
      " init edge (49*,50) score=87.21581268310547\n",
      " init edge (50,51*) score=135.21656799316406\n",
      " init edge (48*,49) score=101.16693115234375\n",
      " init edge (47*,48) score=89.16876983642578\n",
      " init edge (46*,47) score=129.66043090820312\n",
      " init edge (45*,46) score=156.2573699951172\n",
      " init edge (44*,45) score=150.0830535888672\n",
      " init edge (43*,44) score=155.70858764648438\n",
      " init edge (41*,43) score=105.2454605102539\n",
      " init edge (40*,41) score=144.7758331298828\n",
      " init edge (41,42*) score=119.71253967285156\n",
      " init edge (39*,40) score=168.6469268798828\n",
      " init edge (38*,39) score=188.96609497070312\n",
      " init edge (37*,38) score=177.16409301757812\n",
      " init edge (36*,37) score=197.6138458251953\n",
      " init edge (35*,36) score=214.71995544433594\n",
      " init edge (34*,35) score=225.1952362060547\n",
      " init edge (33*,34) score=187.7635498046875\n",
      " init edge (31*,33) score=188.7740020751953\n",
      " init edge (31,32*) score=162.808837890625\n",
      " init edge (30*,31) score=61.11906051635742\n",
      " init edge (28*,30) score=120.98786926269531\n",
      " init edge (27*,28) score=156.6169891357422\n",
      " init edge (28,29*) score=143.803466796875\n",
      " init edge (26*,27) score=189.32887268066406\n",
      " init edge (25*,26) score=181.48239135742188\n",
      " init edge (24*,25) score=177.72634887695312\n",
      " init edge (23*,25) score=155.5019989013672\n",
      " init edge (22*,23) score=119.76310729980469\n",
      " init edge (21*,22) score=128.45098876953125\n",
      " init edge (20*,21) score=122.54429626464844\n",
      " init edge (18*,20) score=78.68968200683594\n",
      " init edge (19*,20) score=197.1946258544922\n",
      " init edge (17*,19) score=68.41494750976562\n",
      " init edge (16*,17) score=111.85746002197266\n",
      " init edge (15*,16) score=127.37357330322266\n",
      " init edge (13*,15) score=111.16917419433594\n",
      " init edge (13,14*) score=109.81951904296875\n",
      " init edge (12*,13) score=106.36182403564453\n",
      " init edge (11*,13) score=38.66027069091797\n",
      " init loss = 0.19876094162464142\n",
      "Global alignement - optimizing for:\n",
      "['pw_poses', 'im_depthmaps', 'im_poses', 'im_focals']\n"
     ]
    },
    {
     "name": "stderr",
     "output_type": "stream",
     "text": [
      "100%|██████████| 300/300 [00:59<00:00,  5.05it/s, lr=1.27413e-06 loss=0.0292659]\n"
     ]
    }
   ],
   "source": [
    "scene = global_aligner(output, device=device, mode=GlobalAlignerMode.PointCloudOptimizer)\n",
    "loss = scene.compute_global_alignment(init=\"mst\", niter=niter, schedule=schedule, lr=lr)"
   ]
  },
  {
   "cell_type": "code",
   "execution_count": 7,
   "metadata": {},
   "outputs": [],
   "source": [
    "imgs = scene.imgs\n",
    "focals = scene.get_focals()\n",
    "poses = scene.get_im_poses()\n",
    "pts3d = scene.get_pts3d()\n",
    "confidence_masks = scene.get_masks()"
   ]
  },
  {
   "cell_type": "code",
   "execution_count": 12,
   "metadata": {},
   "outputs": [
    {
     "name": "stdout",
     "output_type": "stream",
     "text": [
      "tensor([[ 9.6646e-01,  2.3566e-04,  2.5682e-01,  5.5775e-03],\n",
      "        [-9.2691e-03,  9.9938e-01,  3.3964e-02,  2.5058e-02],\n",
      "        [-2.5665e-01, -3.5205e-02,  9.6586e-01, -1.2422e-01],\n",
      "        [ 0.0000e+00,  0.0000e+00,  0.0000e+00,  1.0000e+00]], device='cuda:0',\n",
      "       grad_fn=<SelectBackward0>)\n"
     ]
    }
   ],
   "source": [
    "print(poses[0])"
   ]
  },
  {
   "cell_type": "code",
   "execution_count": 30,
   "metadata": {},
   "outputs": [
    {
     "name": "stdout",
     "output_type": "stream",
     "text": [
      "[[-0.10820186 -0.0692589   0.08428344]\n",
      " [-0.1075123  -0.06920169  0.08398107]\n",
      " [-0.1075325  -0.06973861  0.08499013]\n",
      " ...\n",
      " [ 0.22235408  0.13979113  0.00493105]\n",
      " [ 0.22595738  0.14133254  0.00649323]\n",
      " [ 0.22105752  0.13839196  0.00301899]]\n"
     ]
    }
   ],
   "source": [
    "i = 0\n",
    "pointcloud = pts3d[i].detach().cpu().numpy()\n",
    "pointcloud = pointcloud.reshape(-1, 3)\n",
    "color = imgs[i].reshape(-1, 3)\n",
    "pose = poses[i].detach().cpu().numpy()\n",
    "\n",
    "dist = np.linalg.norm(pointcloud - pose[:3,3], axis=1)\n",
    "norm_dist = (dist-dist.min())/(dist.max()-dist.min())\n",
    "mask = norm_dist < 0.5\n",
    "\n",
    "print(pointcloud[mask])\n"
   ]
  },
  {
   "cell_type": "code",
   "execution_count": 31,
   "metadata": {},
   "outputs": [],
   "source": [
    "pcd = o3d.geometry.PointCloud()\n",
    "\n",
    "for i in range(len(pts3d)):\n",
    "    pointcloud = pts3d[i].detach().cpu().numpy()\n",
    "    pointcloud = pointcloud.reshape(-1, 3)\n",
    "    color = imgs[i].reshape(-1, 3)\n",
    "    pose = poses[i].detach().cpu().numpy()\n",
    "\n",
    "    dist = np.linalg.norm(pointcloud - pose[:3,3], axis=1)\n",
    "    norm_dist = (dist-dist.min())/(dist.max()-dist.min())\n",
    "    mask = norm_dist < 0.5\n",
    "    \n",
    "    tmp_pcd = o3d.geometry.PointCloud()\n",
    "    tmp_pcd.points = o3d.utility.Vector3dVector(pointcloud[mask])\n",
    "    tmp_pcd.colors = o3d.utility.Vector3dVector(color[mask])\n",
    "    \n",
    "    pcd += tmp_pcd\n",
    "    pcd = pcd.voxel_down_sample(0.01)\n",
    "    \n",
    "#o3d.visualization.draw_geometries([pcd])"
   ]
  },
  {
   "cell_type": "code",
   "execution_count": 32,
   "metadata": {},
   "outputs": [
    {
     "data": {
      "text/plain": [
       "True"
      ]
     },
     "execution_count": 32,
     "metadata": {},
     "output_type": "execute_result"
    }
   ],
   "source": [
    "# Save o3d\n",
    "o3d.io.write_point_cloud(\"tmp_1.ply\", pcd)"
   ]
  }
 ],
 "metadata": {
  "kernelspec": {
   "display_name": "Python 3",
   "language": "python",
   "name": "python3"
  },
  "language_info": {
   "codemirror_mode": {
    "name": "ipython",
    "version": 3
   },
   "file_extension": ".py",
   "mimetype": "text/x-python",
   "name": "python",
   "nbconvert_exporter": "python",
   "pygments_lexer": "ipython3",
   "version": "3.10.12"
  }
 },
 "nbformat": 4,
 "nbformat_minor": 2
}
