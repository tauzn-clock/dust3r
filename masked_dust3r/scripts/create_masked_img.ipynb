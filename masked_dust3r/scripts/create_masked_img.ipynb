{
 "cells": [
  {
   "cell_type": "code",
   "execution_count": 1,
   "metadata": {},
   "outputs": [],
   "source": [
    "import os\n",
    "from PIL import Image"
   ]
  },
  {
   "cell_type": "code",
   "execution_count": 2,
   "metadata": {},
   "outputs": [],
   "source": [
    "DATA_PATH = \"/dust3r/masked_dust3r/data/jackal_training_data_0\"\n",
    "\n",
    "if os.path.exists(\"{DATA_PATH}/masked_images\".format(DATA_PATH=DATA_PATH)):\n",
    "    for file in os.listdir(\"{DATA_PATH}/masked_images\".format(DATA_PATH=DATA_PATH)):\n",
    "        os.remove(\"{DATA_PATH}/masked_images/{file}\".format(DATA_PATH=DATA_PATH, file=file))\n",
    "        \n",
    "if not os.path.exists(\"{DATA_PATH}/masked_images\".format(DATA_PATH=DATA_PATH)):\n",
    "    os.makedirs(\"{DATA_PATH}/masked_images\".format(DATA_PATH=DATA_PATH))\n",
    "\n",
    "for file in os.listdir(\"{DATA_PATH}/images\".format(DATA_PATH=DATA_PATH)):\n",
    "    img = Image.open(\"{DATA_PATH}/images/{file}\".format(DATA_PATH=DATA_PATH, file=file)).convert(\"RGB\")\n",
    "    mask = Image.open(\"{DATA_PATH}/masks/{file}\".format(DATA_PATH=DATA_PATH, file=file)).convert(\"L\")\n",
    "\n",
    "    masked_img = Image.composite(img, Image.new(\"RGB\", img.size, \"white\"), mask)\n",
    "\n",
    "    masked_img.save(\"{DATA_PATH}/masked_images/{file}\".format(DATA_PATH=DATA_PATH, file=file))\n",
    "\n",
    "    "
   ]
  }
 ],
 "metadata": {
  "kernelspec": {
   "display_name": "Python 3",
   "language": "python",
   "name": "python3"
  },
  "language_info": {
   "codemirror_mode": {
    "name": "ipython",
    "version": 3
   },
   "file_extension": ".py",
   "mimetype": "text/x-python",
   "name": "python",
   "nbconvert_exporter": "python",
   "pygments_lexer": "ipython3",
   "version": "3.10.12"
  }
 },
 "nbformat": 4,
 "nbformat_minor": 2
}
