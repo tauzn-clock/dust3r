{
 "cells": [
  {
   "cell_type": "code",
   "execution_count": 1,
   "metadata": {},
   "outputs": [
    {
     "name": "stdout",
     "output_type": "stream",
     "text": [
      "/dust3r\n"
     ]
    }
   ],
   "source": [
    "import os\n",
    "os.chdir(\"/dust3r\")\n",
    "print(os.getcwd())\n",
    "\n",
    "import numpy as np\n",
    "import re\n",
    "import torch\n",
    "import json\n",
    "from masked_dust3r.scripts.utils.math import *\n",
    "\n",
    "DATA_PATH = \"/dust3r/masked_dust3r/data/jackal_training_data_0\"\n",
    "\n",
    "with open(os.path.join(DATA_PATH, \"transforms.json\"), \"r\") as f:\n",
    "    transforms = json.load(f)\n",
    "\n",
    "device = \"cpu\""
   ]
  },
  {
   "cell_type": "code",
   "execution_count": 2,
   "metadata": {},
   "outputs": [
    {
     "name": "stdout",
     "output_type": "stream",
     "text": [
      "248\n"
     ]
    }
   ],
   "source": [
    "store_frames = []\n",
    "\n",
    "for idx, f in enumerate(transforms[\"frames\"]):\n",
    "    if idx == len(transforms[\"frames\"])-1:\n",
    "        break\n",
    "    p0 = np.array(transforms[\"frames\"][idx][\"transform_matrix\"])\n",
    "    p1 = np.array(transforms[\"frames\"][idx+1][\"transform_matrix\"])\n",
    "\n",
    "    cnt_0 = re.split(\"\\.|/\", transforms[\"frames\"][idx][\"file_path\"])[-2]\n",
    "    cnt_0 = int(cnt_0)\n",
    "    cnt_1 = re.split(\"\\.|/\", transforms[\"frames\"][idx+1][\"file_path\"])[-2]\n",
    "    cnt_1 = int(cnt_1)\n",
    "\n",
    "    poses = interpolate_pose(p0, p1, cnt_1 - cnt_0, device=device)\n",
    "\n",
    "    img_path_arr = re.split(\"\\.|/\", transforms[\"frames\"][idx][\"file_path\"])\n",
    "    mask_path_arr = re.split(\"\\.|/\", transforms[\"frames\"][idx][\"mask_path\"])\n",
    "\n",
    "    for i in range(cnt_0, cnt_1):\n",
    "        new_frame = {}\n",
    "        new_frame[\"transform_matrix\"] = poses[i-cnt_0].tolist()\n",
    "\n",
    "        img_path_arr[-2] = str(i)\n",
    "        mask_path_arr[-2] = str(i)\n",
    "\n",
    "        new_frame[\"file_path\"] = img_path_arr[0] + \"/\" + str(i) + \".\" + \".\".join(img_path_arr[2:])\n",
    "        new_frame[\"mask_path\"] = mask_path_arr[0] + \"/\" + str(i) + \".\" + \".\".join(mask_path_arr[2:])\n",
    "\n",
    "        store_frames.append(new_frame)\n",
    "\n",
    "print(len(store_frames))\n",
    "\n",
    "transforms[\"frames\"] = store_frames\n",
    "\n",
    "with open(os.path.join(DATA_PATH, \"transforms.json\"), \"w\") as f:\n",
    "    json.dump(transforms, f, indent=4)\n"
   ]
  }
 ],
 "metadata": {
  "kernelspec": {
   "display_name": "Python 3",
   "language": "python",
   "name": "python3"
  },
  "language_info": {
   "codemirror_mode": {
    "name": "ipython",
    "version": 3
   },
   "file_extension": ".py",
   "mimetype": "text/x-python",
   "name": "python",
   "nbconvert_exporter": "python",
   "pygments_lexer": "ipython3",
   "version": "3.10.12"
  }
 },
 "nbformat": 4,
 "nbformat_minor": 2
}
