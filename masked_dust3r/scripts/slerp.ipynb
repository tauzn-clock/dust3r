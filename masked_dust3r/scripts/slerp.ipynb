{
 "cells": [
  {
   "cell_type": "code",
   "execution_count": 1,
   "metadata": {},
   "outputs": [
    {
     "name": "stdout",
     "output_type": "stream",
     "text": [
      "/dust3r\n"
     ]
    }
   ],
   "source": [
    "import os\n",
    "os.chdir(\"/dust3r\")\n",
    "print(os.getcwd())\n",
    "\n",
    "import numpy as np\n",
    "import torch\n",
    "from masked_dust3r.scripts.utils.math import *\n",
    "\n",
    "device = \"cpu\""
   ]
  },
  {
   "cell_type": "code",
   "execution_count": 2,
   "metadata": {},
   "outputs": [
    {
     "data": {
      "text/plain": [
       "tensor([[[ 1.0000e+00,  0.0000e+00,  0.0000e+00,  0.0000e+00],\n",
       "         [ 0.0000e+00,  1.0000e+00,  0.0000e+00,  0.0000e+00],\n",
       "         [ 0.0000e+00,  0.0000e+00,  1.0000e+00,  0.0000e+00],\n",
       "         [ 0.0000e+00,  0.0000e+00,  0.0000e+00,  1.0000e+00]],\n",
       "\n",
       "        [[ 9.2388e-01,  3.8268e-01,  0.0000e+00,  2.5000e-01],\n",
       "         [-3.8268e-01,  9.2388e-01, -0.0000e+00, -2.5000e-01],\n",
       "         [-0.0000e+00,  0.0000e+00,  1.0000e+00,  0.0000e+00],\n",
       "         [ 0.0000e+00,  0.0000e+00,  0.0000e+00,  1.0000e+00]],\n",
       "\n",
       "        [[ 7.0711e-01,  7.0711e-01,  0.0000e+00,  5.0000e-01],\n",
       "         [-7.0711e-01,  7.0711e-01, -0.0000e+00, -5.0000e-01],\n",
       "         [-0.0000e+00,  0.0000e+00,  1.0000e+00,  0.0000e+00],\n",
       "         [ 0.0000e+00,  0.0000e+00,  0.0000e+00,  1.0000e+00]],\n",
       "\n",
       "        [[ 3.8268e-01,  9.2388e-01,  0.0000e+00,  7.5000e-01],\n",
       "         [-9.2388e-01,  3.8268e-01, -0.0000e+00, -7.5000e-01],\n",
       "         [-0.0000e+00,  0.0000e+00,  1.0000e+00,  0.0000e+00],\n",
       "         [ 0.0000e+00,  0.0000e+00,  0.0000e+00,  1.0000e+00]],\n",
       "\n",
       "        [[ 2.2204e-16,  1.0000e+00,  0.0000e+00,  1.0000e+00],\n",
       "         [-1.0000e+00,  2.2204e-16, -0.0000e+00, -1.0000e+00],\n",
       "         [-0.0000e+00,  0.0000e+00,  1.0000e+00,  0.0000e+00],\n",
       "         [ 0.0000e+00,  0.0000e+00,  0.0000e+00,  1.0000e+00]]],\n",
       "       dtype=torch.float64)"
      ]
     },
     "execution_count": 2,
     "metadata": {},
     "output_type": "execute_result"
    }
   ],
   "source": [
    "p0 = np.eye(4)\n",
    "p1 = np.eye(4)\n",
    "p1[:2,:2] = np.array([[0,1],[-1,0]])\n",
    "\n",
    "p1[0,3] = 1\n",
    "p1[1,3] = -1\n",
    "\n",
    "step = 4\n",
    "\n",
    "interpolate_pose(p0, p1, step, device=device)\n"
   ]
  }
 ],
 "metadata": {
  "kernelspec": {
   "display_name": "Python 3",
   "language": "python",
   "name": "python3"
  },
  "language_info": {
   "codemirror_mode": {
    "name": "ipython",
    "version": 3
   },
   "file_extension": ".py",
   "mimetype": "text/x-python",
   "name": "python",
   "nbconvert_exporter": "python",
   "pygments_lexer": "ipython3",
   "version": "3.10.12"
  }
 },
 "nbformat": 4,
 "nbformat_minor": 2
}
