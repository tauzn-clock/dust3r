{
 "cells": [
  {
   "cell_type": "code",
   "execution_count": 8,
   "metadata": {},
   "outputs": [],
   "source": [
    "import os\n",
    "import json\n",
    "import re\n",
    "import numpy as np\n",
    "import PIL.Image as Image\n",
    "\n",
    "DATA_FILE = \"/dust3r/masked_dust3r/data/jackal_training_data_0\"\n",
    "\n",
    "RESCALE_FACTOR = 1 #512 /640\n",
    "\n",
    "with open(os.path.join(DATA_FILE, \"transforms.json\"), \"r\") as f:\n",
    "    transforms = json.load(f)"
   ]
  },
  {
   "cell_type": "code",
   "execution_count": 9,
   "metadata": {},
   "outputs": [],
   "source": [
    "for f in transforms[\"frames\"]:\n",
    "    file_path = os.path.join(DATA_FILE, f[\"file_path\"])\n",
    "    new_file_path = re.split(\"\\.|/\", f[\"file_path\"])\n",
    "    new_file_path[0] = \"scaled_images\"\n",
    "    new_file_path = new_file_path[0] + \"/\" + new_file_path[1] + \".\" + new_file_path[2]\n",
    "    f[\"file_path\"] = new_file_path\n",
    "    new_file_path = os.path.join(DATA_FILE, new_file_path)\n",
    "\n",
    "    mask_path = os.path.join(DATA_FILE, f[\"mask_path\"])\n",
    "    new_mask_path = re.split(\"\\.|/\", f[\"mask_path\"])\n",
    "    new_mask_path[0] = \"scaled_masks\"\n",
    "    new_mask_path = new_mask_path[0] + \"/\" + new_mask_path[1] + \".\" + new_mask_path[2]\n",
    "    f[\"mask_path\"] = new_mask_path\n",
    "    new_mask_path = os.path.join(DATA_FILE, new_mask_path)\n",
    "    \n",
    "    fl_x = f[\"fl_x\"]\n",
    "    fl_y = f[\"fl_y\"]\n",
    "    cx = f[\"cx\"]\n",
    "    cy = f[\"cy\"]\n",
    "\n",
    "    w = int(cx * 2 * RESCALE_FACTOR)\n",
    "    h = int(cy * 2 * RESCALE_FACTOR)\n",
    "\n",
    "    f[\"fl_x\"] *= RESCALE_FACTOR\n",
    "    f[\"fl_y\"] *= RESCALE_FACTOR\n",
    "    f[\"cx\"] *= RESCALE_FACTOR\n",
    "    f[\"cy\"] *= RESCALE_FACTOR\n",
    "\n",
    "    img = Image.open(file_path)\n",
    "    img = img.resize((w, h))\n",
    "    img.save(new_file_path)\n",
    "\n",
    "    mask = Image.open(mask_path)\n",
    "    mask = mask.resize((w, h))\n",
    "    mask.save(new_mask_path)\n"
   ]
  },
  {
   "cell_type": "code",
   "execution_count": 10,
   "metadata": {},
   "outputs": [],
   "source": [
    "with open(os.path.join(DATA_FILE, \"transforms.json\"), \"w\") as f:\n",
    "    json.dump(transforms, f, indent=4)"
   ]
  }
 ],
 "metadata": {
  "language_info": {
   "name": "python"
  }
 },
 "nbformat": 4,
 "nbformat_minor": 2
}
