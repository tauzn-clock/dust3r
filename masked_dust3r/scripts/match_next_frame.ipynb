{
 "cells": [
  {
   "cell_type": "code",
   "execution_count": 1,
   "metadata": {},
   "outputs": [
    {
     "name": "stdout",
     "output_type": "stream",
     "text": [
      "/dust3r\n"
     ]
    },
    {
     "name": "stdout",
     "output_type": "stream",
     "text": [
      "Jupyter environment detected. Enabling Open3D WebVisualizer.\n",
      "[Open3D INFO] WebRTC GUI backend enabled.\n",
      "[Open3D INFO] WebRTCWindowSystem: HTTP handshake server disabled.\n",
      "Warning, cannot find cuda-compiled version of RoPE2D, using a slow pytorch version instead\n"
     ]
    }
   ],
   "source": [
    "#!/bin/python3 python3.10\n",
    "\n",
    "import os\n",
    "#Set directory to dust3r\n",
    "os.chdir(\"/dust3r\")\n",
    "print(os.getcwd())\n",
    "\n",
    "import matplotlib.pyplot as plt\n",
    "import numpy as np\n",
    "from PIL import Image\n",
    "import open3d as o3d\n",
    "import torch\n",
    "import json\n",
    "from masked_dust3r.scripts.utils.image import *\n",
    "from masked_dust3r.scripts.utils.constraint import *\n",
    "\n",
    "from dust3r.inference import inference_with_mask\n",
    "from dust3r.model import AsymmetricCroCo3DStereo\n",
    "from dust3r.utils.image import load_images\n",
    "from dust3r.image_pairs import make_pairs\n",
    "from dust3r.cloud_opt import global_aligner, GlobalAlignerMode\n",
    "\n",
    "DATA_PATH = \"/dust3r/masked_dust3r/data/jackal_training_data_0\"\n",
    "IMG_FILE_EXTENSION = \".png\"\n",
    "MASK_FILE_EXTENSION = \".png\"\n",
    "GAUSSIAN_SIGMA = 3.0\n",
    "INIT_FRAMES = 10\n",
    "RECURRING_FRAMES = 5\n",
    "TOTAL_IMGS = 11\n",
    "\n",
    "IS_FOCAL_FIXED = False\n",
    "IS_BEST_FIT_PLANE = True\n",
    "IS_ZERO_Z = True\n",
    "FOCAL_LENGTH = 4.74\n",
    "\n",
    "device = 'cuda'\n",
    "batch_size = 1\n",
    "schedule = 'cosine'\n",
    "lr = 0.01\n",
    "niter = 300\n",
    "\n",
    "with open(f\"{DATA_PATH}/transforms.json\") as f:\n",
    "    transforms = json.load(f)"
   ]
  },
  {
   "cell_type": "code",
   "execution_count": 2,
   "metadata": {},
   "outputs": [
    {
     "name": "stdout",
     "output_type": "stream",
     "text": [
      "... loading model from checkpoints/DUSt3R_ViTLarge_BaseDecoder_512_dpt.pth\n"
     ]
    },
    {
     "name": "stdout",
     "output_type": "stream",
     "text": [
      "instantiating : AsymmetricCroCo3DStereo(enc_depth=24, dec_depth=12, enc_embed_dim=1024, dec_embed_dim=768, enc_num_heads=16, dec_num_heads=12, pos_embed='RoPE100', patch_embed_cls='PatchEmbedDust3R', img_size=(512, 512), head_type='dpt', output_mode='pts3d', depth_mode=('exp', -inf, inf), conf_mode=('exp', 1, inf), landscape_only=False)\n",
      "<All keys matched successfully>\n"
     ]
    }
   ],
   "source": [
    "# Load the model\n",
    "\n",
    "model_name = \"checkpoints/DUSt3R_ViTLarge_BaseDecoder_512_dpt.pth\"\n",
    "# you can put the path to a local checkpoint in model_name if needed\n",
    "model = AsymmetricCroCo3DStereo.from_pretrained(model_name).to(device)"
   ]
  },
  {
   "cell_type": "code",
   "execution_count": 3,
   "metadata": {},
   "outputs": [
    {
     "name": "stdout",
     "output_type": "stream",
     "text": [
      "Looking at frame 10...\n",
      "Using masked_images/5.png...\n",
      "Using masked_images/6.png...\n",
      "Using masked_images/7.png...\n",
      "Using masked_images/8.png...\n",
      "Using masked_images/9.png...\n",
      ">> Loading a list of 6 images\n",
      " - adding /dust3r/masked_dust3r/data/jackal_training_data_0/masked_images/10.png with resolution 1280x720 --> 512x288\n",
      " - adding /dust3r/masked_dust3r/data/jackal_training_data_0/masked_images/5.png with resolution 1280x720 --> 512x288\n",
      " - adding /dust3r/masked_dust3r/data/jackal_training_data_0/masked_images/6.png with resolution 1280x720 --> 512x288\n",
      " - adding /dust3r/masked_dust3r/data/jackal_training_data_0/masked_images/7.png with resolution 1280x720 --> 512x288\n",
      " - adding /dust3r/masked_dust3r/data/jackal_training_data_0/masked_images/8.png with resolution 1280x720 --> 512x288\n",
      " - adding /dust3r/masked_dust3r/data/jackal_training_data_0/masked_images/9.png with resolution 1280x720 --> 512x288\n",
      " (Found 6 images)\n"
     ]
    }
   ],
   "source": [
    "new_img_index = 10\n",
    "print(\"Looking at frame {}...\".format(new_img_index))\n",
    "images_array = []\n",
    "masks_array = []\n",
    "\n",
    "preset_focal = [transforms[\"fl_x\"] for _ in range(RECURRING_FRAMES+1)]\n",
    "preset_pose = []\n",
    "preset_mask = [True for _ in range(RECURRING_FRAMES+1)]\n",
    "preset_mask[0] = False\n",
    "\n",
    "images_array.append(os.path.join(DATA_PATH,\"masked_images/{}{}\".format(new_img_index,IMG_FILE_EXTENSION)))\n",
    "masks_array.append(os.path.join(DATA_PATH,\"masks/{}{}\".format(new_img_index,MASK_FILE_EXTENSION)))\n",
    "preset_pose.append(np.eye(4))\n",
    "\n",
    "for i in range(-RECURRING_FRAMES,0):\n",
    "    images_array.append(os.path.join(DATA_PATH,transforms[\"frames\"][i][\"file_path\"]))\n",
    "    masks_array.append(os.path.join(DATA_PATH,transforms[\"frames\"][i][\"mask_path\"]))\n",
    "    preset_pose.append(np.array(transforms[\"frames\"][i][\"transform_matrix\"]))\n",
    "    print(\"Using {}...\".format(transforms[\"frames\"][i][\"file_path\"]))\n",
    "preset_pose[0] = preset_pose[-1]\n",
    "\n",
    "images = load_images(images_array, size=512, verbose=True)\n",
    "_,_,H,W = images[0][\"img\"].shape\n",
    "masks = load_masks(masks_array, H, W, device)"
   ]
  },
  {
   "cell_type": "code",
   "execution_count": 4,
   "metadata": {},
   "outputs": [
    {
     "name": "stdout",
     "output_type": "stream",
     "text": [
      ">> Inference with model on 10 image pairs\n"
     ]
    },
    {
     "name": "stderr",
     "output_type": "stream",
     "text": [
      "  0%|          | 0/10 [00:00<?, ?it/s]/usr/local/lib/python3.10/dist-packages/torch/functional.py:512: UserWarning: torch.meshgrid: in an upcoming release, it will be required to pass the indexing argument. (Triggered internally at ../aten/src/ATen/native/TensorShape.cpp:3587.)\n",
      "  return _VF.meshgrid(tensors, **kwargs)  # type: ignore[attr-defined]\n",
      "100%|██████████| 10/10 [00:06<00:00,  1.62it/s]\n"
     ]
    }
   ],
   "source": [
    "pairs = make_pairs(images, scene_graph='oneref-0', prefilter=None, symmetrize=True)\n",
    "output = inference_with_mask(pairs, model, device, masks, GAUSSIAN_SIGMA, batch_size=batch_size)"
   ]
  },
  {
   "cell_type": "code",
   "execution_count": 5,
   "metadata": {},
   "outputs": [
    {
     "name": "stdout",
     "output_type": "stream",
     "text": [
      " (setting focal #0 = 491.58966064453125)\n",
      " (setting focal #1 = 491.58966064453125)\n",
      " (setting focal #2 = 491.58966064453125)\n",
      " (setting focal #3 = 491.58966064453125)\n",
      " (setting focal #4 = 491.58966064453125)\n",
      " (setting focal #5 = 491.58966064453125)\n",
      " (setting pose #1 = [ 0.10944864 -0.13494991  0.        ])\n",
      " (setting pose #2 = [ 0.04718999 -0.04209871  0.        ])\n",
      " (setting pose #3 = [ 0.08555276 -0.0451539   0.        ])\n",
      " (setting pose #4 = [ 0.10870501 -0.04764657  0.        ])\n",
      " (setting pose #5 = [ 0.1141178  -0.09485686  0.        ])\n"
     ]
    }
   ],
   "source": [
    "scene = global_aligner(output, device=device, mode=GlobalAlignerMode.ModularPointCloudOptimizer)\n",
    "scene.preset_focal(preset_focal, [True for _ in range(RECURRING_FRAMES+1)])\n",
    "scene.preset_pose(preset_pose, preset_mask)"
   ]
  },
  {
   "cell_type": "code",
   "execution_count": 6,
   "metadata": {},
   "outputs": [
    {
     "name": "stdout",
     "output_type": "stream",
     "text": [
      "tensor([[[-0.9540,  0.1001, -0.2825, -2.9793],\n",
      "         [-0.2448,  0.2837,  0.9272, 12.5863],\n",
      "         [ 0.1729,  0.9537, -0.2462, -2.1108],\n",
      "         [ 0.0000,  0.0000,  0.0000,  1.0000]],\n",
      "\n",
      "        [[ 0.7140,  0.4959, -0.4943,  0.1094],\n",
      "         [-0.6461,  0.1945, -0.7381, -0.1349],\n",
      "         [-0.2698,  0.8463,  0.4593,  0.0000],\n",
      "         [ 0.0000,  0.0000,  0.0000,  1.0000]],\n",
      "\n",
      "        [[ 0.9659,  0.1422, -0.2164,  0.0472],\n",
      "         [-0.2536,  0.3491, -0.9021, -0.0421],\n",
      "         [-0.0528,  0.9262,  0.3732,  0.0000],\n",
      "         [ 0.0000,  0.0000,  0.0000,  1.0000]],\n",
      "\n",
      "        [[ 0.9151,  0.2233, -0.3357,  0.0856],\n",
      "         [-0.3906,  0.2842, -0.8756, -0.0452],\n",
      "         [-0.1001,  0.9324,  0.3473,  0.0000],\n",
      "         [ 0.0000,  0.0000,  0.0000,  1.0000]],\n",
      "\n",
      "        [[ 0.8687,  0.3050, -0.3903,  0.1087],\n",
      "         [-0.4735,  0.2801, -0.8351, -0.0476],\n",
      "         [-0.1454,  0.9103,  0.3877,  0.0000],\n",
      "         [ 0.0000,  0.0000,  0.0000,  1.0000]],\n",
      "\n",
      "        [[ 0.7919,  0.4062, -0.4559,  0.1141],\n",
      "         [-0.5728,  0.2355, -0.7851, -0.0949],\n",
      "         [-0.2115,  0.8829,  0.4191,  0.0000],\n",
      "         [ 0.0000,  0.0000,  0.0000,  1.0000]]], device='cuda:0',\n",
      "       grad_fn=<CopySlices>)\n"
     ]
    }
   ],
   "source": [
    "im_pose =  scene.get_im_poses()\n",
    "print(im_pose)\n"
   ]
  },
  {
   "cell_type": "code",
   "execution_count": 7,
   "metadata": {},
   "outputs": [
    {
     "name": "stdout",
     "output_type": "stream",
     "text": [
      " init edge (2*,0*) score=1.1480892896652222\n",
      " init edge (1*,0) score=1.1418921947479248\n"
     ]
    },
    {
     "name": "stdout",
     "output_type": "stream",
     "text": [
      " init edge (3*,0) score=1.1078542470932007\n",
      " init edge (0,5*) score=1.0900238752365112\n",
      " init edge (4*,0) score=1.088693380355835\n",
      " init loss = 0.004925969522446394\n",
      "Global alignement - optimizing for:\n",
      "['pw_poses', 'im_depthmaps.0', 'im_depthmaps.1', 'im_depthmaps.2', 'im_depthmaps.3', 'im_depthmaps.4', 'im_depthmaps.5', 'im_poses.0']\n"
     ]
    },
    {
     "name": "stderr",
     "output_type": "stream",
     "text": [
      "100%|██████████| 300/300 [00:20<00:00, 14.52it/s, lr=1.27413e-06 loss=0.000385978]\n"
     ]
    }
   ],
   "source": [
    "loss = scene.compute_global_alignment(init=\"mst\", niter=niter, schedule=schedule, lr=lr)"
   ]
  },
  {
   "cell_type": "code",
   "execution_count": 8,
   "metadata": {},
   "outputs": [
    {
     "name": "stdout",
     "output_type": "stream",
     "text": [
      "tensor([[[ 0.9362,  0.2554,  0.2413,  0.0037],\n",
      "         [ 0.1449,  0.3448, -0.9274, -0.0990],\n",
      "         [-0.3201,  0.9033,  0.2858,  0.0267],\n",
      "         [ 0.0000,  0.0000,  0.0000,  1.0000]],\n",
      "\n",
      "        [[ 0.7140,  0.4959, -0.4943,  0.1094],\n",
      "         [-0.6461,  0.1945, -0.7381, -0.1349],\n",
      "         [-0.2698,  0.8463,  0.4593,  0.0000],\n",
      "         [ 0.0000,  0.0000,  0.0000,  1.0000]],\n",
      "\n",
      "        [[ 0.9659,  0.1422, -0.2164,  0.0472],\n",
      "         [-0.2536,  0.3491, -0.9021, -0.0421],\n",
      "         [-0.0528,  0.9262,  0.3732,  0.0000],\n",
      "         [ 0.0000,  0.0000,  0.0000,  1.0000]],\n",
      "\n",
      "        [[ 0.9151,  0.2233, -0.3357,  0.0856],\n",
      "         [-0.3906,  0.2842, -0.8756, -0.0452],\n",
      "         [-0.1001,  0.9324,  0.3473,  0.0000],\n",
      "         [ 0.0000,  0.0000,  0.0000,  1.0000]],\n",
      "\n",
      "        [[ 0.8687,  0.3050, -0.3903,  0.1087],\n",
      "         [-0.4735,  0.2801, -0.8351, -0.0476],\n",
      "         [-0.1454,  0.9103,  0.3877,  0.0000],\n",
      "         [ 0.0000,  0.0000,  0.0000,  1.0000]],\n",
      "\n",
      "        [[ 0.7919,  0.4062, -0.4559,  0.1141],\n",
      "         [-0.5728,  0.2355, -0.7851, -0.0949],\n",
      "         [-0.2115,  0.8829,  0.4191,  0.0000],\n",
      "         [ 0.0000,  0.0000,  0.0000,  1.0000]]], device='cuda:0',\n",
      "       grad_fn=<CopySlices>)\n"
     ]
    }
   ],
   "source": [
    "im_pose =  scene.get_im_poses()\n",
    "print(im_pose)"
   ]
  },
  {
   "cell_type": "code",
   "execution_count": 9,
   "metadata": {},
   "outputs": [],
   "source": [
    "\n",
    "imgs = scene.imgs\n",
    "focals = scene.get_focals()\n",
    "poses = scene.get_im_poses()\n",
    "pts3d = scene.get_pts3d()\n",
    "confidence_masks = scene.get_masks()\n",
    "\n",
    "if (confidence_masks[0]!=0).all():\n",
    "    print(\"No confidence in Frame {}\".format(new_img_index))       \n",
    "    pass\n",
    "\n",
    "new_tf = poses[0].detach().cpu().numpy().tolist()\n",
    "if abs(new_tf[2][3]) > 0.1:\n",
    "    pass\n",
    "new_tf[2][3] = 0\n",
    "\n",
    "new_frame = {\n",
    "    \"file_path\" : \"/\".join(images_array[0].split(\"/\")[-2:]),\n",
    "    \"transform_matrix\" : new_tf,\n",
    "    \"mask_path\" : \"/\".join(masks_array[0].split(\"/\")[-2:])\n",
    "}\n",
    "#transforms[\"frames\"].append(new_frame)\n"
   ]
  }
 ],
 "metadata": {
  "kernelspec": {
   "display_name": "Python 3",
   "language": "python",
   "name": "python3"
  },
  "language_info": {
   "codemirror_mode": {
    "name": "ipython",
    "version": 3
   },
   "file_extension": ".py",
   "mimetype": "text/x-python",
   "name": "python",
   "nbconvert_exporter": "python",
   "pygments_lexer": "ipython3",
   "version": "3.10.12"
  }
 },
 "nbformat": 4,
 "nbformat_minor": 2
}
