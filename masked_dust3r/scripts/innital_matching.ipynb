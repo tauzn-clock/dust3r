{
 "cells": [
  {
   "cell_type": "code",
   "execution_count": 10,
   "metadata": {},
   "outputs": [
    {
     "name": "stdout",
     "output_type": "stream",
     "text": [
      "/dust3r\n"
     ]
    }
   ],
   "source": [
    "import os\n",
    "os.chdir(\"/dust3r\")\n",
    "print(os.getcwd())"
   ]
  },
  {
   "cell_type": "code",
   "execution_count": 11,
   "metadata": {},
   "outputs": [],
   "source": [
    "import matplotlib.pyplot as plt\n",
    "import numpy as np\n",
    "from PIL import Image\n",
    "import torch\n",
    "import json\n",
    "import open3d as o3d\n",
    "\n",
    "from dust3r.inference import inference_with_mask\n",
    "from dust3r.model import AsymmetricCroCo3DStereo\n",
    "from dust3r.utils.image import load_images\n",
    "from dust3r.image_pairs import make_pairs\n",
    "from dust3r.cloud_opt import global_aligner, GlobalAlignerMode\n",
    "from dust3r.cloud_opt.base_opt import global_alignment_loop\n",
    "from masked_dust3r.scripts.utils.math import *\n",
    "from masked_dust3r.scripts.utils.image import *\n",
    "\n",
    "\n",
    "DATA_PATH = \"/dust3r/masked_dust3r/data/jackal_drive\"\n",
    "IMG_FILE_EXTENSION = \".png\"\n",
    "MASK_FILE_EXTENSION = \".png\"\n",
    "GAUSSIAN_SIGMA = 1.0\n",
    "INIT_FRAMES = 30\n",
    "NEW_FRAMES = 10\n",
    "PREVIOUS_FRAMES = 40\n",
    "TOTAL_FRAMES = 300\n",
    "\n",
    "INIT_WEIGHT_FOCAL = 0\n",
    "INIT_WEIGHT_Z = 0.01\n",
    "INIT_WEIGHT_ROT = 0.01\n",
    "INIT_WEIGHT_TRANS_SMOOTHNESS = 0.00001\n",
    "INIT_WEIGHT_ROT_SMOOTHNESS = 0.00001\n",
    "\n",
    "NEW_WEIGHT_FOCAL = 0.1\n",
    "NEW_WEIGHT_Z = 0.1\n",
    "NEW_WEIGHT_ROT = 0.1\n",
    "NEW_WEIGHT_TRANS_SMOOTHNESS = 0.00001\n",
    "NEW_WEIGHT_ROT_SMOOTHNESS = 0.00001\n",
    "\n",
    "IS_FOCAL_FIXED = True\n",
    "FOCAL_LENGTH = 4.74\n",
    "\n",
    "device = 'cuda'\n",
    "batch_size = 1\n",
    "schedule = 'cosine'\n",
    "lr = 0.01\n",
    "niter = 300"
   ]
  },
  {
   "cell_type": "code",
   "execution_count": 12,
   "metadata": {},
   "outputs": [
    {
     "name": "stdout",
     "output_type": "stream",
     "text": [
      "... loading model from checkpoints/DUSt3R_ViTLarge_BaseDecoder_512_dpt.pth\n",
      "instantiating : AsymmetricCroCo3DStereo(enc_depth=24, dec_depth=12, enc_embed_dim=1024, dec_embed_dim=768, enc_num_heads=16, dec_num_heads=12, pos_embed='RoPE100', patch_embed_cls='PatchEmbedDust3R', img_size=(512, 512), head_type='dpt', output_mode='pts3d', depth_mode=('exp', -inf, inf), conf_mode=('exp', 1, inf), landscape_only=False)\n",
      "<All keys matched successfully>\n"
     ]
    }
   ],
   "source": [
    "# Load the model\n",
    "\n",
    "model_name = \"checkpoints/DUSt3R_ViTLarge_BaseDecoder_512_dpt.pth\"\n",
    "# you can put the path to a local checkpoint in model_name if needed\n",
    "model = AsymmetricCroCo3DStereo.from_pretrained(model_name).to(device)"
   ]
  },
  {
   "cell_type": "code",
   "execution_count": 13,
   "metadata": {},
   "outputs": [
    {
     "name": "stdout",
     "output_type": "stream",
     "text": [
      ">> Loading a list of 30 images\n",
      " - adding /dust3r/masked_dust3r/data/jackal_drive/masked_images/0.png with resolution 1280x720 --> 512x288\n",
      " - adding /dust3r/masked_dust3r/data/jackal_drive/masked_images/1.png with resolution 1280x720 --> 512x288\n",
      " - adding /dust3r/masked_dust3r/data/jackal_drive/masked_images/2.png with resolution 1280x720 --> 512x288\n",
      " - adding /dust3r/masked_dust3r/data/jackal_drive/masked_images/3.png with resolution 1280x720 --> 512x288\n",
      " - adding /dust3r/masked_dust3r/data/jackal_drive/masked_images/4.png with resolution 1280x720 --> 512x288\n",
      " - adding /dust3r/masked_dust3r/data/jackal_drive/masked_images/5.png with resolution 1280x720 --> 512x288\n",
      " - adding /dust3r/masked_dust3r/data/jackal_drive/masked_images/6.png with resolution 1280x720 --> 512x288\n",
      " - adding /dust3r/masked_dust3r/data/jackal_drive/masked_images/7.png with resolution 1280x720 --> 512x288\n",
      " - adding /dust3r/masked_dust3r/data/jackal_drive/masked_images/8.png with resolution 1280x720 --> 512x288\n",
      " - adding /dust3r/masked_dust3r/data/jackal_drive/masked_images/9.png with resolution 1280x720 --> 512x288\n",
      " - adding /dust3r/masked_dust3r/data/jackal_drive/masked_images/10.png with resolution 1280x720 --> 512x288\n",
      " - adding /dust3r/masked_dust3r/data/jackal_drive/masked_images/11.png with resolution 1280x720 --> 512x288\n",
      " - adding /dust3r/masked_dust3r/data/jackal_drive/masked_images/12.png with resolution 1280x720 --> 512x288\n",
      " - adding /dust3r/masked_dust3r/data/jackal_drive/masked_images/13.png with resolution 1280x720 --> 512x288\n",
      " - adding /dust3r/masked_dust3r/data/jackal_drive/masked_images/14.png with resolution 1280x720 --> 512x288\n",
      " - adding /dust3r/masked_dust3r/data/jackal_drive/masked_images/15.png with resolution 1280x720 --> 512x288\n",
      " - adding /dust3r/masked_dust3r/data/jackal_drive/masked_images/16.png with resolution 1280x720 --> 512x288\n",
      " - adding /dust3r/masked_dust3r/data/jackal_drive/masked_images/17.png with resolution 1280x720 --> 512x288\n",
      " - adding /dust3r/masked_dust3r/data/jackal_drive/masked_images/18.png with resolution 1280x720 --> 512x288\n",
      " - adding /dust3r/masked_dust3r/data/jackal_drive/masked_images/19.png with resolution 1280x720 --> 512x288\n",
      " - adding /dust3r/masked_dust3r/data/jackal_drive/masked_images/20.png with resolution 1280x720 --> 512x288\n",
      " - adding /dust3r/masked_dust3r/data/jackal_drive/masked_images/21.png with resolution 1280x720 --> 512x288\n",
      " - adding /dust3r/masked_dust3r/data/jackal_drive/masked_images/22.png with resolution 1280x720 --> 512x288\n",
      " - adding /dust3r/masked_dust3r/data/jackal_drive/masked_images/23.png with resolution 1280x720 --> 512x288\n",
      " - adding /dust3r/masked_dust3r/data/jackal_drive/masked_images/24.png with resolution 1280x720 --> 512x288\n",
      " - adding /dust3r/masked_dust3r/data/jackal_drive/masked_images/25.png with resolution 1280x720 --> 512x288\n",
      " - adding /dust3r/masked_dust3r/data/jackal_drive/masked_images/26.png with resolution 1280x720 --> 512x288\n",
      " - adding /dust3r/masked_dust3r/data/jackal_drive/masked_images/27.png with resolution 1280x720 --> 512x288\n",
      " - adding /dust3r/masked_dust3r/data/jackal_drive/masked_images/28.png with resolution 1280x720 --> 512x288\n",
      " - adding /dust3r/masked_dust3r/data/jackal_drive/masked_images/29.png with resolution 1280x720 --> 512x288\n",
      " (Found 30 images)\n"
     ]
    }
   ],
   "source": [
    "images_array = []\n",
    "masks_array = []\n",
    "\n",
    "for i in range(INIT_FRAMES):\n",
    "    images_array.append(os.path.join(DATA_PATH,\"masked_images/{}{}\".format(i,IMG_FILE_EXTENSION)))\n",
    "    masks_array.append(os.path.join(DATA_PATH,\"masks/{}{}\".format(i,MASK_FILE_EXTENSION)))\n",
    "images = load_images(images_array, size=512, verbose=True)\n",
    "_,_,H,W = images[0][\"img\"].shape\n",
    "masks = load_masks(masks_array, H, W, device)"
   ]
  },
  {
   "cell_type": "code",
   "execution_count": 14,
   "metadata": {},
   "outputs": [
    {
     "name": "stdout",
     "output_type": "stream",
     "text": [
      ">> Inference with model on 120 image pairs\n"
     ]
    },
    {
     "name": "stderr",
     "output_type": "stream",
     "text": [
      "100%|██████████| 120/120 [00:35<00:00,  3.35it/s]\n"
     ]
    }
   ],
   "source": [
    "pairs = make_pairs(images, scene_graph='swin-2', prefilter=None, symmetrize=True)\n",
    "output = inference_with_mask(pairs, model, device, masks, GAUSSIAN_SIGMA, batch_size=batch_size)"
   ]
  },
  {
   "cell_type": "code",
   "execution_count": 15,
   "metadata": {},
   "outputs": [
    {
     "name": "stdout",
     "output_type": "stream",
     "text": [
      " init edge (4*,2*) score=1.4069451093673706\n",
      " init edge (4,3*) score=1.3453327417373657\n",
      " init edge (5*,3) score=1.3356707096099854\n",
      " init edge (6*,4) score=1.3290936946868896\n",
      " init edge (7*,5) score=1.2905136346817017\n",
      " init edge (9*,7) score=1.2705857753753662\n",
      " init edge (3,1*) score=1.2342967987060547\n",
      " init edge (8*,6) score=1.2284821271896362\n",
      " init edge (2,0*) score=1.1783502101898193\n",
      " init edge (11*,9) score=1.1729549169540405\n",
      " init edge (10*,8) score=1.1484359502792358\n",
      " init edge (11,12*) score=1.1280802488327026\n",
      " init edge (11,13*) score=1.1078684329986572\n",
      " init edge (12,14*) score=1.0878560543060303\n",
      " init edge (15*,13) score=1.0298125743865967\n",
      " init edge (28*,0) score=1.2418574094772339\n",
      " init edge (27*,28) score=1.217063069343567\n",
      " init edge (27,25*) score=1.2628129720687866\n",
      " init edge (27,29*) score=1.2180676460266113\n",
      " init edge (23*,25) score=1.3433653116226196\n",
      " init edge (23,21*) score=1.3883497714996338\n",
      " init edge (19*,21) score=1.3465063571929932\n",
      " init edge (19,17*) score=1.169379472732544\n",
      " init edge (20*,21) score=1.406898856163025\n",
      " init edge (20,22*) score=1.3794220685958862\n",
      " init edge (22,24*) score=1.3488937616348267\n",
      " init edge (24,26*) score=1.2743277549743652\n",
      " init edge (20,18*) score=1.2718493938446045\n",
      " init edge (18,16*) score=1.128169059753418\n",
      " init loss = 0.0033987439237535\n",
      "Global alignement - optimizing for:\n",
      "['pw_poses', 'im_depthmaps.0', 'im_depthmaps.1', 'im_depthmaps.2', 'im_depthmaps.3', 'im_depthmaps.4', 'im_depthmaps.5', 'im_depthmaps.6', 'im_depthmaps.7', 'im_depthmaps.8', 'im_depthmaps.9', 'im_depthmaps.10', 'im_depthmaps.11', 'im_depthmaps.12', 'im_depthmaps.13', 'im_depthmaps.14', 'im_depthmaps.15', 'im_depthmaps.16', 'im_depthmaps.17', 'im_depthmaps.18', 'im_depthmaps.19', 'im_depthmaps.20', 'im_depthmaps.21', 'im_depthmaps.22', 'im_depthmaps.23', 'im_depthmaps.24', 'im_depthmaps.25', 'im_depthmaps.26', 'im_depthmaps.27', 'im_depthmaps.28', 'im_depthmaps.29', 'im_poses.0', 'im_poses.1', 'im_poses.2', 'im_poses.3', 'im_poses.4', 'im_poses.5', 'im_poses.6', 'im_poses.7', 'im_poses.8', 'im_poses.9', 'im_poses.10', 'im_poses.11', 'im_poses.12', 'im_poses.13', 'im_poses.14', 'im_poses.15', 'im_poses.16', 'im_poses.17', 'im_poses.18', 'im_poses.19', 'im_poses.20', 'im_poses.21', 'im_poses.22', 'im_poses.23', 'im_poses.24', 'im_poses.25', 'im_poses.26', 'im_poses.27', 'im_poses.28', 'im_poses.29', 'im_focals.0', 'im_focals.1', 'im_focals.2', 'im_focals.3', 'im_focals.4', 'im_focals.5', 'im_focals.6', 'im_focals.7', 'im_focals.8', 'im_focals.9', 'im_focals.10', 'im_focals.11', 'im_focals.12', 'im_focals.13', 'im_focals.14', 'im_focals.15', 'im_focals.16', 'im_focals.17', 'im_focals.18', 'im_focals.19', 'im_focals.20', 'im_focals.21', 'im_focals.22', 'im_focals.23', 'im_focals.24', 'im_focals.25', 'im_focals.26', 'im_focals.27', 'im_focals.28', 'im_focals.29']\n"
     ]
    },
    {
     "name": "stderr",
     "output_type": "stream",
     "text": [
      "100%|██████████| 300/300 [01:34<00:00,  3.17it/s, lr=1.27413e-06 loss=0.000340773]\n"
     ]
    },
    {
     "name": "stdout",
     "output_type": "stream",
     "text": [
      "tensor([[480.2152],\n",
      "        [531.8730],\n",
      "        [527.9482],\n",
      "        [499.3434],\n",
      "        [532.2170],\n",
      "        [574.3369],\n",
      "        [587.7007],\n",
      "        [553.4855],\n",
      "        [524.9421],\n",
      "        [525.9062],\n",
      "        [452.9351],\n",
      "        [467.5393],\n",
      "        [423.8594],\n",
      "        [410.4176],\n",
      "        [347.7339],\n",
      "        [389.5172],\n",
      "        [454.7909],\n",
      "        [464.5722],\n",
      "        [448.0027],\n",
      "        [532.2039],\n",
      "        [542.5788],\n",
      "        [575.4208],\n",
      "        [534.7335],\n",
      "        [531.6117],\n",
      "        [516.3522],\n",
      "        [515.9739],\n",
      "        [480.7349],\n",
      "        [487.4694],\n",
      "        [482.9661],\n",
      "        [513.5150]], device='cuda:0', grad_fn=<ExpBackward0>)\n",
      "Global alignement - optimizing for:\n",
      "['pw_poses', 'im_depthmaps.0', 'im_depthmaps.1', 'im_depthmaps.2', 'im_depthmaps.3', 'im_depthmaps.4', 'im_depthmaps.5', 'im_depthmaps.6', 'im_depthmaps.7', 'im_depthmaps.8', 'im_depthmaps.9', 'im_depthmaps.10', 'im_depthmaps.11', 'im_depthmaps.12', 'im_depthmaps.13', 'im_depthmaps.14', 'im_depthmaps.15', 'im_depthmaps.16', 'im_depthmaps.17', 'im_depthmaps.18', 'im_depthmaps.19', 'im_depthmaps.20', 'im_depthmaps.21', 'im_depthmaps.22', 'im_depthmaps.23', 'im_depthmaps.24', 'im_depthmaps.25', 'im_depthmaps.26', 'im_depthmaps.27', 'im_depthmaps.28', 'im_depthmaps.29', 'im_poses.0', 'im_poses.1', 'im_poses.2', 'im_poses.3', 'im_poses.4', 'im_poses.5', 'im_poses.6', 'im_poses.7', 'im_poses.8', 'im_poses.9', 'im_poses.10', 'im_poses.11', 'im_poses.12', 'im_poses.13', 'im_poses.14', 'im_poses.15', 'im_poses.16', 'im_poses.17', 'im_poses.18', 'im_poses.19', 'im_poses.20', 'im_poses.21', 'im_poses.22', 'im_poses.23', 'im_poses.24', 'im_poses.25', 'im_poses.26', 'im_poses.27', 'im_poses.28', 'im_poses.29', 'im_focals.0', 'im_focals.1', 'im_focals.2', 'im_focals.3', 'im_focals.4', 'im_focals.5', 'im_focals.6', 'im_focals.7', 'im_focals.8', 'im_focals.9', 'im_focals.10', 'im_focals.11', 'im_focals.12', 'im_focals.13', 'im_focals.14', 'im_focals.15', 'im_focals.16', 'im_focals.17', 'im_focals.18', 'im_focals.19', 'im_focals.20', 'im_focals.21', 'im_focals.22', 'im_focals.23', 'im_focals.24', 'im_focals.25', 'im_focals.26', 'im_focals.27', 'im_focals.28', 'im_focals.29']\n"
     ]
    },
    {
     "name": "stderr",
     "output_type": "stream",
     "text": [
      "100%|██████████| 300/300 [01:34<00:00,  3.19it/s, lr=1.27413e-06 loss=0.000285791]\n"
     ]
    }
   ],
   "source": [
    "#init_scene = global_aligner(output, device=device, mode=GlobalAlignerMode.ModularPointCloudOptimizer)\n",
    "#loss = init_scene.compute_global_alignment(init=\"mst\", niter=niter, schedule='cosine', lr=lr)\n",
    "\n",
    "#scene = init_scene\n",
    "\n",
    "scene = global_aligner(output, device=device, mode=GlobalAlignerMode.PlanePointCloudOptimizer, \n",
    "                        weight_focal = 0,\n",
    "                        weight_z = INIT_WEIGHT_Z  * 0.1,\n",
    "                        weight_rot = INIT_WEIGHT_ROT * 0.1,\n",
    "                        weight_trans_smoothness = 0,\n",
    "                        weight_rot_smoothness = 0)\n",
    "#scene.im_poses = calculate_new_params(init_scene.im_poses,device)\n",
    "#scene.im_focals = init_scene.im_focals\n",
    "loss = scene.compute_global_alignment(init=\"mst\", niter=niter, schedule=schedule, lr=lr)\n",
    "\n",
    "print(scene.get_focals())\n",
    "\n",
    "scene.weight_focal = INIT_WEIGHT_FOCAL\n",
    "scene.weight_z = INIT_WEIGHT_Z \n",
    "scene.weight_rot = INIT_WEIGHT_ROT\n",
    "#scene.weight_trans_smoothness = INIT_WEIGHT_TRANS_SMOOTHNESS \n",
    "#scene.weight_rot_smoothness = INIT_WEIGHT_ROT_SMOOTHNESS\n",
    "loss = global_alignment_loop(scene, niter=niter, schedule=schedule, lr=lr)\n"
   ]
  },
  {
   "cell_type": "code",
   "execution_count": 16,
   "metadata": {},
   "outputs": [
    {
     "name": "stdout",
     "output_type": "stream",
     "text": [
      "tensor([[485.2377],\n",
      "        [516.5031],\n",
      "        [518.0402],\n",
      "        [505.9385],\n",
      "        [532.1113],\n",
      "        [551.9042],\n",
      "        [566.1036],\n",
      "        [539.4161],\n",
      "        [516.5307],\n",
      "        [516.5997],\n",
      "        [465.1650],\n",
      "        [478.6691],\n",
      "        [440.7426],\n",
      "        [426.0716],\n",
      "        [325.7993],\n",
      "        [401.3805],\n",
      "        [444.3559],\n",
      "        [464.6347],\n",
      "        [460.9888],\n",
      "        [517.5455],\n",
      "        [523.2043],\n",
      "        [550.7404],\n",
      "        [521.0326],\n",
      "        [518.1054],\n",
      "        [506.8924],\n",
      "        [502.6686],\n",
      "        [481.2789],\n",
      "        [483.7465],\n",
      "        [478.5030],\n",
      "        [496.5066]], device='cuda:0', grad_fn=<ExpBackward0>)\n"
     ]
    }
   ],
   "source": [
    "print(scene.get_focals())\n",
    "\n",
    "imgs = scene.imgs\n",
    "focals = scene.get_focals()\n",
    "poses = scene.get_im_poses()\n",
    "pts3d = scene.get_pts3d()\n",
    "confidence_masks = scene.get_masks()"
   ]
  },
  {
   "cell_type": "code",
   "execution_count": 17,
   "metadata": {},
   "outputs": [
    {
     "name": "stdout",
     "output_type": "stream",
     "text": [
      "\u001b[1;33m[Open3D WARNING] Write PLY failed: point cloud has 0 points.\u001b[0;m\n"
     ]
    }
   ],
   "source": [
    "#Check if pointclouds folder exists\n",
    "#If exists, delete all files in the folder\n",
    "if os.path.exists(\"{DATA_PATH}/pointclouds\".format(DATA_PATH=DATA_PATH)):\n",
    "    for file in os.listdir(\"{DATA_PATH}/pointclouds\".format(DATA_PATH=DATA_PATH)):\n",
    "        os.remove(\"{DATA_PATH}/pointclouds/{file}\".format(DATA_PATH=DATA_PATH, file=file))\n",
    "        \n",
    "if not os.path.exists(\"{DATA_PATH}/pointclouds\".format(DATA_PATH=DATA_PATH)):\n",
    "    os.makedirs(\"{DATA_PATH}/pointclouds\".format(DATA_PATH=DATA_PATH))\n",
    "\n",
    "for i in range(len(images)):\n",
    "    pointcloud = pts3d[i].detach().cpu().numpy()\n",
    "    pointcloud = pointcloud.reshape(-1, 3)\n",
    "    color = imgs[i].reshape(-1, 3)\n",
    "    confidence_mask = confidence_masks[i].detach().cpu().numpy()\n",
    "    confidence_mask = confidence_mask.reshape(-1)\n",
    "    \n",
    "    masked_pointcloud = []\n",
    "    masked_color = []\n",
    "\n",
    "    for j in range(len(confidence_mask)):\n",
    "        if confidence_mask[j]:\n",
    "            masked_pointcloud.append(pointcloud[j])\n",
    "            masked_color.append(color[j])\n",
    "\n",
    "    pcd = o3d.geometry.PointCloud()\n",
    "    pcd.points = o3d.utility.Vector3dVector(masked_pointcloud)\n",
    "    pcd.colors = o3d.utility.Vector3dVector(masked_color)\n",
    "    o3d.io.write_point_cloud(\"{DATA_PATH}/pointclouds/pointcloud{i}.ply\".format(DATA_PATH=DATA_PATH, i=i), pcd)"
   ]
  },
  {
   "cell_type": "code",
   "execution_count": 18,
   "metadata": {},
   "outputs": [],
   "source": [
    "#Create transform file\n",
    "#TODO: Per frame camera model?\n",
    "transforms = {}\n",
    "transforms[\"camera_model\"] = \"OPENCV\"\n",
    "\n",
    "averge_focal = focals.sum()/len(focals)\n",
    "transforms[\"fl_x\"] = averge_focal.item()\n",
    "transforms[\"fl_y\"] = averge_focal.item()\n",
    "\n",
    "#Find size of images\n",
    "img = Image.open(images_array[0])\n",
    "width, height = img.size\n",
    "transforms[\"w\"] = width\n",
    "transforms[\"h\"] = height\n",
    "transforms[\"cx\"] = width//2\n",
    "transforms[\"cy\"] = height//2\n",
    "\n",
    "transforms[\"frames\"] = []\n",
    "\n",
    "for i in range(len(poses)):\n",
    "    if not((confidence_masks[i]==0).all()):\n",
    "        frame = {}\n",
    "        frame[\"file_path\"] = \"/\".join(images_array[i].split(\"/\")[-2:])\n",
    "        frame[\"transform_matrix\"] = poses[i].detach().cpu().numpy().tolist()\n",
    "        frame[\"mask_path\"] = \"/\".join(masks_array[i].split(\"/\")[-2:])\n",
    "        transforms[\"frames\"].append(frame)\n",
    "\n",
    "#Save transform file\n",
    "with open(\"{}/transforms.json\".format(DATA_PATH), 'w') as f:\n",
    "    json.dump(transforms, f, indent=4)"
   ]
  }
 ],
 "metadata": {
  "kernelspec": {
   "display_name": "Python 3",
   "language": "python",
   "name": "python3"
  },
  "language_info": {
   "codemirror_mode": {
    "name": "ipython",
    "version": 3
   },
   "file_extension": ".py",
   "mimetype": "text/x-python",
   "name": "python",
   "nbconvert_exporter": "python",
   "pygments_lexer": "ipython3",
   "version": "3.10.12"
  }
 },
 "nbformat": 4,
 "nbformat_minor": 2
}
