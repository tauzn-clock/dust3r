{
 "cells": [
  {
   "cell_type": "code",
   "execution_count": 1,
   "metadata": {},
   "outputs": [
    {
     "name": "stdout",
     "output_type": "stream",
     "text": [
      "/dust3r\n"
     ]
    }
   ],
   "source": [
    "import os\n",
    "os.chdir(\"/dust3r\")\n",
    "print(os.getcwd())"
   ]
  },
  {
   "cell_type": "code",
   "execution_count": 12,
   "metadata": {},
   "outputs": [],
   "source": [
    "import matplotlib.pyplot as plt\n",
    "import numpy as np\n",
    "from PIL import Image\n",
    "import torch\n",
    "import json\n",
    "import open3d as o3d\n",
    "\n",
    "from dust3r.inference import inference_with_mask, create_gaussian_kernel\n",
    "from dust3r.model import AsymmetricCroCo3DStereo\n",
    "from dust3r.utils.image import load_images\n",
    "from dust3r.image_pairs import make_pairs\n",
    "from dust3r.cloud_opt import global_aligner, GlobalAlignerMode\n",
    "from dust3r.cloud_opt.base_opt import global_alignment_loop\n",
    "from masked_dust3r.scripts.utils.math import *\n",
    "from masked_dust3r.scripts.utils.image import *\n",
    "\n",
    "\n",
    "DATA_PATH = \"/dust3r/masked_dust3r/data/jackal_irl_one_spin\"\n",
    "IMG_FILE_EXTENSION = \".png\"\n",
    "MASK_FILE_EXTENSION = \".png\"\n",
    "GAUSSIAN_SIGMA = 1.0\n",
    "INIT_FRAMES = 30\n",
    "NEW_FRAMES = 10\n",
    "PREVIOUS_FRAMES = 40\n",
    "TOTAL_FRAMES = 300\n",
    "\n",
    "INIT_WEIGHT_FOCAL = 0\n",
    "INIT_WEIGHT_Z = 0.01\n",
    "INIT_WEIGHT_ROT = 0.01 \n",
    "INIT_WEIGHT_TRANS_SMOOTHNESS = 0.00001 * 0\n",
    "INIT_WEIGHT_ROT_SMOOTHNESS = 0.00001 * 0\n",
    "\n",
    "NEW_WEIGHT_FOCAL = 0.1\n",
    "NEW_WEIGHT_Z = 0.1\n",
    "NEW_WEIGHT_ROT = 0.1\n",
    "NEW_WEIGHT_TRANS_SMOOTHNESS = 0.00001\n",
    "NEW_WEIGHT_ROT_SMOOTHNESS = 0.00001\n",
    "\n",
    "USE_AVG_FOCAL = False\n",
    "\n",
    "device = 'cuda'\n",
    "batch_size = 1\n",
    "schedule = 'cosine'\n",
    "lr = 0.01\n",
    "niter = 300"
   ]
  },
  {
   "cell_type": "code",
   "execution_count": 3,
   "metadata": {},
   "outputs": [
    {
     "name": "stderr",
     "output_type": "stream",
     "text": [
      "/usr/local/lib/python3.10/dist-packages/torch/functional.py:512: UserWarning: torch.meshgrid: in an upcoming release, it will be required to pass the indexing argument. (Triggered internally at ../aten/src/ATen/native/TensorShape.cpp:3587.)\n",
      "  return _VF.meshgrid(tensors, **kwargs)  # type: ignore[attr-defined]\n"
     ]
    }
   ],
   "source": [
    "GAUSSIAN_SIGMA = 21.0\n",
    "SIZE = int(GAUSSIAN_SIGMA * 3)\n",
    "\n",
    "kernel = create_gaussian_kernel(SIZE, GAUSSIAN_SIGMA).to(device)\n",
    "\n",
    "SIZE = 1\n",
    "kernel = torch.ones(SIZE, SIZE).to(device)"
   ]
  },
  {
   "cell_type": "code",
   "execution_count": 4,
   "metadata": {},
   "outputs": [
    {
     "name": "stdout",
     "output_type": "stream",
     "text": [
      "... loading model from checkpoints/DUSt3R_ViTLarge_BaseDecoder_512_dpt.pth\n"
     ]
    },
    {
     "name": "stdout",
     "output_type": "stream",
     "text": [
      "instantiating : AsymmetricCroCo3DStereo(enc_depth=24, dec_depth=12, enc_embed_dim=1024, dec_embed_dim=768, enc_num_heads=16, dec_num_heads=12, pos_embed='RoPE100', patch_embed_cls='PatchEmbedDust3R', img_size=(512, 512), head_type='dpt', output_mode='pts3d', depth_mode=('exp', -inf, inf), conf_mode=('exp', 1, inf), landscape_only=False)\n",
      "<All keys matched successfully>\n"
     ]
    }
   ],
   "source": [
    "# Load the model\n",
    "\n",
    "model_name = \"checkpoints/DUSt3R_ViTLarge_BaseDecoder_512_dpt.pth\"\n",
    "# you can put the path to a local checkpoint in model_name if needed\n",
    "model = AsymmetricCroCo3DStereo.from_pretrained(model_name).to(device)"
   ]
  },
  {
   "cell_type": "code",
   "execution_count": 5,
   "metadata": {},
   "outputs": [
    {
     "name": "stdout",
     "output_type": "stream",
     "text": [
      ">> Loading a list of 10 images\n",
      " - adding /dust3r/masked_dust3r/data/jackal_irl_one_spin/masked_images/0.png with resolution 640x480 --> 512x384\n",
      " - adding /dust3r/masked_dust3r/data/jackal_irl_one_spin/masked_images/1.png with resolution 640x480 --> 512x384\n",
      " - adding /dust3r/masked_dust3r/data/jackal_irl_one_spin/masked_images/2.png with resolution 640x480 --> 512x384\n",
      " - adding /dust3r/masked_dust3r/data/jackal_irl_one_spin/masked_images/3.png with resolution 640x480 --> 512x384\n",
      " - adding /dust3r/masked_dust3r/data/jackal_irl_one_spin/masked_images/4.png with resolution 640x480 --> 512x384\n",
      " - adding /dust3r/masked_dust3r/data/jackal_irl_one_spin/masked_images/5.png with resolution 640x480 --> 512x384\n",
      " - adding /dust3r/masked_dust3r/data/jackal_irl_one_spin/masked_images/6.png with resolution 640x480 --> 512x384\n",
      " - adding /dust3r/masked_dust3r/data/jackal_irl_one_spin/masked_images/7.png with resolution 640x480 --> 512x384\n",
      " - adding /dust3r/masked_dust3r/data/jackal_irl_one_spin/masked_images/8.png with resolution 640x480 --> 512x384\n",
      " - adding /dust3r/masked_dust3r/data/jackal_irl_one_spin/masked_images/9.png with resolution 640x480 --> 512x384\n",
      " (Found 10 images)\n"
     ]
    }
   ],
   "source": [
    "images_array = []\n",
    "masks_array = []\n",
    "\n",
    "for i in range(10):\n",
    "    images_array.append(os.path.join(DATA_PATH,\"masked_images/{}{}\".format(i,IMG_FILE_EXTENSION)))\n",
    "    masks_array.append(os.path.join(DATA_PATH,\"masks/{}{}\".format(i,MASK_FILE_EXTENSION)))\n",
    "images = load_images(images_array, size=512, verbose=True)\n",
    "_,_,H,W = images[0][\"img\"].shape\n",
    "masks = load_masks(masks_array, H, W, device)"
   ]
  },
  {
   "cell_type": "code",
   "execution_count": 6,
   "metadata": {},
   "outputs": [
    {
     "name": "stdout",
     "output_type": "stream",
     "text": [
      ">> Inference with model on 80 image pairs\n"
     ]
    },
    {
     "name": "stderr",
     "output_type": "stream",
     "text": [
      "100%|██████████| 80/80 [00:33<00:00,  2.40it/s]\n"
     ]
    }
   ],
   "source": [
    "pairs = make_pairs(images, scene_graph='swin-4', prefilter=None, symmetrize=True)\n",
    "output = inference_with_mask(pairs, model, device, masks, kernel, batch_size=batch_size)\n",
    "\n",
    "del pairs"
   ]
  },
  {
   "cell_type": "code",
   "execution_count": 7,
   "metadata": {},
   "outputs": [
    {
     "name": "stdout",
     "output_type": "stream",
     "text": [
      " init edge (5*,4*) score=1.2286036014556885\n",
      " init edge (5,6*) score=1.1971986293792725\n",
      " init edge (6,7*) score=1.1772550344467163\n",
      " init edge (7,9*) score=1.1710926294326782\n",
      " init edge (4,3*) score=1.1559910774230957\n",
      " init edge (5,2*) score=1.1506507396697998\n",
      " init edge (5,1*) score=1.1498658657073975\n",
      " init edge (4,0*) score=1.1146104335784912\n",
      " init edge (7,8*) score=1.1951526403427124\n",
      " init loss = 0.0008146763429977\n",
      "Global alignement - optimizing for:\n",
      "['pw_poses', 'im_depthmaps.0', 'im_depthmaps.1', 'im_depthmaps.2', 'im_depthmaps.3', 'im_depthmaps.4', 'im_depthmaps.5', 'im_depthmaps.6', 'im_depthmaps.7', 'im_depthmaps.8', 'im_depthmaps.9', 'im_poses.0', 'im_poses.1', 'im_poses.2', 'im_poses.3', 'im_poses.4', 'im_poses.5', 'im_poses.6', 'im_poses.7', 'im_poses.8', 'im_poses.9', 'im_focals.0', 'im_focals.1', 'im_focals.2', 'im_focals.3', 'im_focals.4', 'im_focals.5', 'im_focals.6', 'im_focals.7', 'im_focals.8', 'im_focals.9']\n"
     ]
    },
    {
     "name": "stderr",
     "output_type": "stream",
     "text": [
      "100%|██████████| 300/300 [01:39<00:00,  3.02it/s, lr=1.27413e-06 loss=6.06773e-05]\n"
     ]
    }
   ],
   "source": [
    "#init_scene = global_aligner(output, device=device, mode=GlobalAlignerMode.ModularPointCloudOptimizer)\n",
    "#loss = init_scene.compute_global_alignment(init=\"mst\", niter=niter, schedule='cosine', lr=lr)\n",
    "\n",
    "#scene = init_scene\n",
    "\n",
    "scene = global_aligner(output, device=device, mode=GlobalAlignerMode.PlanePointCloudOptimizer, \n",
    "                        weight_focal = 0,\n",
    "                        weight_z = INIT_WEIGHT_Z  * 0.1,\n",
    "                        weight_rot = INIT_WEIGHT_ROT * 0.1,\n",
    "                        weight_trans_smoothness = 0,\n",
    "                        weight_rot_smoothness = 0)\n",
    "#scene.im_poses = calculate_new_params(init_scene.im_poses,device)\n",
    "#scene.im_focals = init_scene.im_focals\n",
    "#print(scene.im_poses[0])\n",
    "loss = scene.compute_global_alignment(init=\"mst\", niter=niter, schedule=schedule, lr=lr)\n",
    "#print(scene.im_poses[0])\n",
    "\n",
    "#scene.weight_focal = INIT_WEIGHT_FOCAL\n",
    "#scene.weight_z = INIT_WEIGHT_Z \n",
    "#scene.weight_rot = INIT_WEIGHT_ROT\n",
    "#scene.weight_trans_smoothness = INIT_WEIGHT_TRANS_SMOOTHNESS \n",
    "#scene.weight_rot_smoothness = INIT_WEIGHT_ROT_SMOOTHNESS\n",
    "#loss = global_alignment_loop(scene, niter=niter, schedule=schedule, lr=lr)\n"
   ]
  },
  {
   "cell_type": "code",
   "execution_count": 8,
   "metadata": {},
   "outputs": [
    {
     "name": "stdout",
     "output_type": "stream",
     "text": [
      "tensor([[529.0613],\n",
      "        [572.6783],\n",
      "        [571.4208],\n",
      "        [561.4349],\n",
      "        [534.0599],\n",
      "        [589.5187],\n",
      "        [583.3734],\n",
      "        [585.2063],\n",
      "        [547.8608],\n",
      "        [591.5915]], device='cuda:0', grad_fn=<ExpBackward0>)\n"
     ]
    }
   ],
   "source": [
    "imgs = scene.imgs\n",
    "focals = scene.get_focals()\n",
    "poses = scene.get_im_poses()\n",
    "pts3d = scene.get_pts3d()\n",
    "confidence_masks = scene.get_masks()"
   ]
  },
  {
   "cell_type": "code",
   "execution_count": 9,
   "metadata": {},
   "outputs": [],
   "source": [
    "#Check if pointclouds folder exists\n",
    "#If exists, delete all files in the folder\n",
    "if os.path.exists(\"{DATA_PATH}/pointclouds\".format(DATA_PATH=DATA_PATH)):\n",
    "    for file in os.listdir(\"{DATA_PATH}/pointclouds\".format(DATA_PATH=DATA_PATH)):\n",
    "        os.remove(\"{DATA_PATH}/pointclouds/{file}\".format(DATA_PATH=DATA_PATH, file=file))\n",
    "        \n",
    "if not os.path.exists(\"{DATA_PATH}/pointclouds\".format(DATA_PATH=DATA_PATH)):\n",
    "    os.makedirs(\"{DATA_PATH}/pointclouds\".format(DATA_PATH=DATA_PATH))\n",
    "\n",
    "for i in range(len(images)):\n",
    "    pointcloud = pts3d[i].detach().cpu().numpy()\n",
    "    pointcloud = pointcloud.reshape(-1, 3)\n",
    "    color = imgs[i].reshape(-1, 3)\n",
    "    confidence_mask = confidence_masks[i].detach().cpu().numpy()\n",
    "    confidence_mask = confidence_mask.reshape(-1)\n",
    "    \n",
    "    masked_pointcloud = []\n",
    "    masked_color = []\n",
    "\n",
    "    for j in range(len(confidence_mask)):\n",
    "        if confidence_mask[j]:\n",
    "            masked_pointcloud.append(pointcloud[j])\n",
    "            masked_color.append(color[j])\n",
    "\n",
    "    pcd = o3d.geometry.PointCloud()\n",
    "    pcd.points = o3d.utility.Vector3dVector(masked_pointcloud)\n",
    "    pcd.colors = o3d.utility.Vector3dVector(masked_color)\n",
    "    o3d.io.write_point_cloud(\"{DATA_PATH}/pointclouds/pointcloud{i}.ply\".format(DATA_PATH=DATA_PATH, i=i), pcd)"
   ]
  },
  {
   "cell_type": "code",
   "execution_count": 39,
   "metadata": {},
   "outputs": [],
   "source": [
    "OPENGL = np.array([[1, 0, 0, 0],\n",
    "                    [0, -1, 0, 0],\n",
    "                    [0, 0, -1, 0],\n",
    "                    [0, 0, 0, 1]])\n",
    "\n",
    "img = Image.open(images_array[0])\n",
    "width, height = img.size\n",
    "\n",
    "RESCALE_FACTOR = 512/width\n",
    "\n",
    "#Create transform file\n",
    "transforms = {}\n",
    "transforms[\"camera_model\"] = \"OPENCV\"\n",
    "\n",
    "if USE_AVG_FOCAL:\n",
    "    averge_focal = focals.sum()/len(focals)\n",
    "    transforms[\"fl_x\"] = averge_focal.item()\n",
    "    transforms[\"fl_y\"] = averge_focal.item()\n",
    "\n",
    "    #Find size of images\n",
    "    img = Image.open(images_array[0])\n",
    "    width, height = img.size\n",
    "    transforms[\"w\"] = width * RESCALE_FACTOR\n",
    "    transforms[\"h\"] = height * RESCALE_FACTOR\n",
    "    transforms[\"cx\"] = width/2 * RESCALE_FACTOR\n",
    "    transforms[\"cy\"] = height/2 * RESCALE_FACTOR\n",
    "\n",
    "transforms[\"frames\"] = []\n",
    "\n",
    "for i in range(len(poses)):\n",
    "    if not((confidence_masks[i]==0).all()):\n",
    "        frame = {}\n",
    "        frame[\"file_path\"] = \"/\".join(images_array[i].split(\"/\")[-2:])\n",
    "        frame[\"transform_matrix\"] = poses[i].detach().cpu().numpy()\n",
    "        frame[\"transform_matrix\"] = np.linalg.inv(frame[\"transform_matrix\"])\n",
    "        frame[\"transform_matrix\"] = np.matmul(OPENGL, frame[\"transform_matrix\"])\n",
    "        #print(frame[\"transform_matrix\"])\n",
    "        #frame[\"transform_matrix\"] = np.linalg.inv(frame[\"transform_matrix\"])\n",
    "        #print(frame[\"transform_matrix\"])\n",
    "        frame[\"transform_matrix\"] = frame[\"transform_matrix\"].tolist()\n",
    "        #print(frame[\"transform_matrix\"])\n",
    "        frame[\"mask_path\"] = \"/\".join(masks_array[i].split(\"/\")[-2:])\n",
    "        \n",
    "        if not USE_AVG_FOCAL:\n",
    "            frame[\"fl_x\"] = focals[i].item()\n",
    "            frame[\"fl_y\"] = focals[i].item()\n",
    "            img = Image.open(images_array[i])\n",
    "            width, height = img.size\n",
    "            frame[\"w\"] = width * RESCALE_FACTOR\n",
    "            frame[\"h\"] = height * RESCALE_FACTOR\n",
    "            frame[\"cx\"] = width/2 * RESCALE_FACTOR\n",
    "            frame[\"cy\"] = height/2 * RESCALE_FACTOR\n",
    "        \n",
    "        transforms[\"frames\"].append(frame)\n",
    "        \n",
    "\n",
    "#Save transform file\n",
    "with open(\"{}/transforms.json\".format(DATA_PATH), 'w') as f:\n",
    "    json.dump(transforms, f, indent=4)"
   ]
  }
 ],
 "metadata": {
  "kernelspec": {
   "display_name": "Python 3 (ipykernel)",
   "language": "python",
   "name": "python3"
  },
  "language_info": {
   "codemirror_mode": {
    "name": "ipython",
    "version": 3
   },
   "file_extension": ".py",
   "mimetype": "text/x-python",
   "name": "python",
   "nbconvert_exporter": "python",
   "pygments_lexer": "ipython3",
   "version": "3.10.12"
  }
 },
 "nbformat": 4,
 "nbformat_minor": 2
}
