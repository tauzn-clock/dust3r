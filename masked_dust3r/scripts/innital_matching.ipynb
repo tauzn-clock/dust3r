{
 "cells": [
  {
   "cell_type": "code",
   "execution_count": 1,
   "metadata": {},
   "outputs": [
    {
     "name": "stdout",
     "output_type": "stream",
     "text": [
      "/dust3r\n"
     ]
    }
   ],
   "source": [
    "import os\n",
    "os.chdir(\"/dust3r\")\n",
    "print(os.getcwd())"
   ]
  },
  {
   "cell_type": "code",
   "execution_count": 2,
   "metadata": {},
   "outputs": [
    {
     "name": "stdout",
     "output_type": "stream",
     "text": [
      "Jupyter environment detected. Enabling Open3D WebVisualizer.\n",
      "[Open3D INFO] WebRTC GUI backend enabled.\n",
      "[Open3D INFO] WebRTCWindowSystem: HTTP handshake server disabled.\n",
      "Warning, cannot find cuda-compiled version of RoPE2D, using a slow pytorch version instead\n"
     ]
    }
   ],
   "source": [
    "import matplotlib.pyplot as plt\n",
    "import numpy as np\n",
    "from PIL import Image\n",
    "import torch\n",
    "import json\n",
    "import open3d as o3d\n",
    "\n",
    "from dust3r.inference import inference_with_mask, create_gaussian_kernel\n",
    "from dust3r.model import AsymmetricCroCo3DStereo\n",
    "from dust3r.utils.image import load_images\n",
    "from dust3r.image_pairs import make_pairs\n",
    "from dust3r.cloud_opt import global_aligner, GlobalAlignerMode\n",
    "from dust3r.cloud_opt.base_opt import global_alignment_loop\n",
    "from masked_dust3r.scripts.utils.math import *\n",
    "from masked_dust3r.scripts.utils.image import *\n",
    "\n",
    "\n",
    "DATA_PATH = \"/dust3r/masked_dust3r/data/jackal_irl_one_spin\"\n",
    "IMG_FILE_EXTENSION = \".png\"\n",
    "MASK_FILE_EXTENSION = \".png\"\n",
    "\n",
    "INIT_FRAMES = 50\n",
    "NEW_FRAMES = 10\n",
    "PREVIOUS_FRAMES = 40\n",
    "TOTAL_FRAMES = 300\n",
    "\n",
    "INIT_WEIGHT_FOCAL = 0.0001 * 0\n",
    "INIT_WEIGHT_Z = 0.01\n",
    "INIT_WEIGHT_ROT = 0.01 \n",
    "INIT_WEIGHT_TRANS_SMOOTHNESS = 0.001 * 0\n",
    "INIT_WEIGHT_ROT_SMOOTHNESS = 0.001 * 0\n",
    "\n",
    "NEW_WEIGHT_FOCAL = 0.1 * 0\n",
    "NEW_WEIGHT_Z = 0.1\n",
    "NEW_WEIGHT_ROT = 0.1\n",
    "NEW_WEIGHT_TRANS_SMOOTHNESS = 0.0001\n",
    "NEW_WEIGHT_ROT_SMOOTHNESS = 0.00001\n",
    "\n",
    "USE_COMMON_INTRINSICS = False\n",
    "\n",
    "device = 'cuda'\n",
    "batch_size = 1\n",
    "schedule = 'cosine'\n",
    "lr = 0.01\n",
    "niter = 300 "
   ]
  },
  {
   "cell_type": "code",
   "execution_count": 3,
   "metadata": {},
   "outputs": [
    {
     "name": "stderr",
     "output_type": "stream",
     "text": [
      "/usr/local/lib/python3.10/dist-packages/torch/functional.py:512: UserWarning: torch.meshgrid: in an upcoming release, it will be required to pass the indexing argument. (Triggered internally at ../aten/src/ATen/native/TensorShape.cpp:3587.)\n",
      "  return _VF.meshgrid(tensors, **kwargs)  # type: ignore[attr-defined]\n"
     ]
    }
   ],
   "source": [
    "GAUSSIAN_SIGMA = 21.0\n",
    "SIZE = int(GAUSSIAN_SIGMA * 3)\n",
    "\n",
    "kernel = create_gaussian_kernel(SIZE, GAUSSIAN_SIGMA).to(device)\n",
    "\n",
    "SIZE = 5\n",
    "kernel = torch.ones(SIZE, SIZE).to(device)"
   ]
  },
  {
   "cell_type": "code",
   "execution_count": 4,
   "metadata": {},
   "outputs": [
    {
     "name": "stdout",
     "output_type": "stream",
     "text": [
      "... loading model from checkpoints/DUSt3R_ViTLarge_BaseDecoder_512_dpt.pth\n",
      "instantiating : AsymmetricCroCo3DStereo(enc_depth=24, dec_depth=12, enc_embed_dim=1024, dec_embed_dim=768, enc_num_heads=16, dec_num_heads=12, pos_embed='RoPE100', patch_embed_cls='PatchEmbedDust3R', img_size=(512, 512), head_type='dpt', output_mode='pts3d', depth_mode=('exp', -inf, inf), conf_mode=('exp', 1, inf), landscape_only=False)\n",
      "<All keys matched successfully>\n"
     ]
    }
   ],
   "source": [
    "# Load the model\n",
    "\n",
    "model_name = \"checkpoints/DUSt3R_ViTLarge_BaseDecoder_512_dpt.pth\"\n",
    "# you can put the path to a local checkpoint in model_name if needed\n",
    "model = AsymmetricCroCo3DStereo.from_pretrained(model_name).to(device)"
   ]
  },
  {
   "cell_type": "code",
   "execution_count": 5,
   "metadata": {},
   "outputs": [
    {
     "name": "stdout",
     "output_type": "stream",
     "text": [
      ">> Loading a list of 44 images\n",
      " - adding /dust3r/masked_dust3r/data/jackal_irl_one_spin/masked_images/0.png with resolution 640x480 --> 512x384\n",
      " - adding /dust3r/masked_dust3r/data/jackal_irl_one_spin/masked_images/1.png with resolution 640x480 --> 512x384\n",
      " - adding /dust3r/masked_dust3r/data/jackal_irl_one_spin/masked_images/2.png with resolution 640x480 --> 512x384\n",
      " - adding /dust3r/masked_dust3r/data/jackal_irl_one_spin/masked_images/3.png with resolution 640x480 --> 512x384\n",
      " - adding /dust3r/masked_dust3r/data/jackal_irl_one_spin/masked_images/4.png with resolution 640x480 --> 512x384\n",
      " - adding /dust3r/masked_dust3r/data/jackal_irl_one_spin/masked_images/5.png with resolution 640x480 --> 512x384\n",
      " - adding /dust3r/masked_dust3r/data/jackal_irl_one_spin/masked_images/6.png with resolution 640x480 --> 512x384\n",
      " - adding /dust3r/masked_dust3r/data/jackal_irl_one_spin/masked_images/7.png with resolution 640x480 --> 512x384\n",
      " - adding /dust3r/masked_dust3r/data/jackal_irl_one_spin/masked_images/8.png with resolution 640x480 --> 512x384\n",
      " - adding /dust3r/masked_dust3r/data/jackal_irl_one_spin/masked_images/9.png with resolution 640x480 --> 512x384\n",
      " - adding /dust3r/masked_dust3r/data/jackal_irl_one_spin/masked_images/10.png with resolution 640x480 --> 512x384\n",
      " - adding /dust3r/masked_dust3r/data/jackal_irl_one_spin/masked_images/11.png with resolution 640x480 --> 512x384\n",
      " - adding /dust3r/masked_dust3r/data/jackal_irl_one_spin/masked_images/12.png with resolution 640x480 --> 512x384\n",
      " - adding /dust3r/masked_dust3r/data/jackal_irl_one_spin/masked_images/13.png with resolution 640x480 --> 512x384\n",
      " - adding /dust3r/masked_dust3r/data/jackal_irl_one_spin/masked_images/14.png with resolution 640x480 --> 512x384\n",
      " - adding /dust3r/masked_dust3r/data/jackal_irl_one_spin/masked_images/15.png with resolution 640x480 --> 512x384\n",
      " - adding /dust3r/masked_dust3r/data/jackal_irl_one_spin/masked_images/16.png with resolution 640x480 --> 512x384\n",
      " - adding /dust3r/masked_dust3r/data/jackal_irl_one_spin/masked_images/17.png with resolution 640x480 --> 512x384\n",
      " - adding /dust3r/masked_dust3r/data/jackal_irl_one_spin/masked_images/18.png with resolution 640x480 --> 512x384\n",
      " - adding /dust3r/masked_dust3r/data/jackal_irl_one_spin/masked_images/19.png with resolution 640x480 --> 512x384\n",
      " - adding /dust3r/masked_dust3r/data/jackal_irl_one_spin/masked_images/20.png with resolution 640x480 --> 512x384\n",
      " - adding /dust3r/masked_dust3r/data/jackal_irl_one_spin/masked_images/21.png with resolution 640x480 --> 512x384\n",
      " - adding /dust3r/masked_dust3r/data/jackal_irl_one_spin/masked_images/22.png with resolution 640x480 --> 512x384\n",
      " - adding /dust3r/masked_dust3r/data/jackal_irl_one_spin/masked_images/23.png with resolution 640x480 --> 512x384\n",
      " - adding /dust3r/masked_dust3r/data/jackal_irl_one_spin/masked_images/24.png with resolution 640x480 --> 512x384\n",
      " - adding /dust3r/masked_dust3r/data/jackal_irl_one_spin/masked_images/25.png with resolution 640x480 --> 512x384\n",
      " - adding /dust3r/masked_dust3r/data/jackal_irl_one_spin/masked_images/26.png with resolution 640x480 --> 512x384\n",
      " - adding /dust3r/masked_dust3r/data/jackal_irl_one_spin/masked_images/27.png with resolution 640x480 --> 512x384\n",
      " - adding /dust3r/masked_dust3r/data/jackal_irl_one_spin/masked_images/28.png with resolution 640x480 --> 512x384\n",
      " - adding /dust3r/masked_dust3r/data/jackal_irl_one_spin/masked_images/29.png with resolution 640x480 --> 512x384\n",
      " - adding /dust3r/masked_dust3r/data/jackal_irl_one_spin/masked_images/30.png with resolution 640x480 --> 512x384\n",
      " - adding /dust3r/masked_dust3r/data/jackal_irl_one_spin/masked_images/31.png with resolution 640x480 --> 512x384\n",
      " - adding /dust3r/masked_dust3r/data/jackal_irl_one_spin/masked_images/32.png with resolution 640x480 --> 512x384\n",
      " - adding /dust3r/masked_dust3r/data/jackal_irl_one_spin/masked_images/33.png with resolution 640x480 --> 512x384\n",
      " - adding /dust3r/masked_dust3r/data/jackal_irl_one_spin/masked_images/34.png with resolution 640x480 --> 512x384\n",
      " - adding /dust3r/masked_dust3r/data/jackal_irl_one_spin/masked_images/35.png with resolution 640x480 --> 512x384\n",
      " - adding /dust3r/masked_dust3r/data/jackal_irl_one_spin/masked_images/36.png with resolution 640x480 --> 512x384\n",
      " - adding /dust3r/masked_dust3r/data/jackal_irl_one_spin/masked_images/37.png with resolution 640x480 --> 512x384\n",
      " - adding /dust3r/masked_dust3r/data/jackal_irl_one_spin/masked_images/38.png with resolution 640x480 --> 512x384\n",
      " - adding /dust3r/masked_dust3r/data/jackal_irl_one_spin/masked_images/39.png with resolution 640x480 --> 512x384\n",
      " - adding /dust3r/masked_dust3r/data/jackal_irl_one_spin/masked_images/40.png with resolution 640x480 --> 512x384\n",
      " - adding /dust3r/masked_dust3r/data/jackal_irl_one_spin/masked_images/41.png with resolution 640x480 --> 512x384\n",
      " - adding /dust3r/masked_dust3r/data/jackal_irl_one_spin/masked_images/42.png with resolution 640x480 --> 512x384\n",
      " - adding /dust3r/masked_dust3r/data/jackal_irl_one_spin/masked_images/43.png with resolution 640x480 --> 512x384\n",
      " (Found 44 images)\n"
     ]
    }
   ],
   "source": [
    "images_array = []\n",
    "masks_array = []\n",
    "\n",
    "for i in range(44):\n",
    "    images_array.append(os.path.join(DATA_PATH,\"masked_images/{}{}\".format(i,IMG_FILE_EXTENSION)))\n",
    "    masks_array.append(os.path.join(DATA_PATH,\"masks/{}{}\".format(i,MASK_FILE_EXTENSION)))\n",
    "images = load_images(images_array, size=512, verbose=True)\n",
    "_,_,H,W = images[0][\"img\"].shape\n",
    "masks = load_masks(masks_array, H, W, device)"
   ]
  },
  {
   "cell_type": "code",
   "execution_count": 6,
   "metadata": {},
   "outputs": [
    {
     "name": "stdout",
     "output_type": "stream",
     "text": [
      ">> Inference with model on 88 image pairs\n"
     ]
    },
    {
     "name": "stderr",
     "output_type": "stream",
     "text": [
      "100%|██████████| 88/88 [00:36<00:00,  2.41it/s]\n"
     ]
    }
   ],
   "source": [
    "pairs = make_pairs(images, scene_graph='swin-1', prefilter=None, symmetrize=True)\n",
    "output = inference_with_mask(pairs, model, device, masks, kernel, batch_size=batch_size)\n",
    "del pairs"
   ]
  },
  {
   "cell_type": "code",
   "execution_count": 7,
   "metadata": {},
   "outputs": [
    {
     "name": "stdout",
     "output_type": "stream",
     "text": [
      " init edge (27*,26*) score=1.360966682434082\n",
      " init edge (27,28*) score=1.3121287822723389\n",
      " init edge (26,25*) score=1.2196820974349976\n",
      " init edge (28,29*) score=1.203314185142517\n",
      " init edge (25,24*) score=1.190906286239624\n",
      " init edge (30*,29) score=1.1762253046035767\n",
      " init edge (30,31*) score=1.1614958047866821\n",
      " init edge (24,23*) score=1.155872106552124\n",
      " init edge (32*,31) score=1.1429954767227173\n",
      " init edge (23,22*) score=1.1675777435302734\n",
      " init edge (33*,32) score=1.1538861989974976\n",
      " init edge (34*,33) score=1.1501089334487915\n",
      " init edge (21*,22) score=1.1749271154403687\n",
      " init edge (21,20*) score=1.1550123691558838\n",
      " init edge (35*,34) score=1.154326319694519\n",
      " init edge (20,19*) score=1.1406059265136719\n",
      " init edge (18*,19) score=1.1363943815231323\n",
      " init edge (17*,18) score=1.188900351524353\n",
      " init edge (36*,35) score=1.1635130643844604\n",
      " init edge (17,16*) score=1.1471844911575317\n",
      " init edge (15*,16) score=1.1701997518539429\n",
      " init edge (36,37*) score=1.1692731380462646\n",
      " init edge (15,14*) score=1.1848490238189697\n",
      " init edge (37,38*) score=1.17082941532135\n",
      " init edge (39*,38) score=1.1566985845565796\n",
      " init edge (14,13*) score=1.1891307830810547\n",
      " init edge (39,40*) score=1.1694270372390747\n",
      " init edge (40,41*) score=1.1522821187973022\n",
      " init edge (42*,41) score=1.1356720924377441\n",
      " init edge (43*,42) score=1.1185638904571533\n",
      " init edge (43,0*) score=1.1018460988998413\n",
      " init edge (13,12*) score=1.2049494981765747\n",
      " init edge (12,11*) score=1.1360430717468262\n",
      " init edge (11,10*) score=1.1612788438796997\n",
      " init edge (10,9*) score=1.1534863710403442\n",
      " init edge (8*,9) score=1.1654531955718994\n",
      " init edge (7*,8) score=1.195630669593811\n",
      " init edge (6*,7) score=1.1776044368743896\n",
      " init edge (5*,6) score=1.1977698802947998\n",
      " init edge (5,4*) score=1.2293940782546997\n",
      " init edge (4,3*) score=1.1562325954437256\n",
      " init edge (2*,3) score=1.1132912635803223\n",
      " init edge (2,1*) score=1.116474986076355\n",
      " init loss = 0.00379081885330379\n",
      "Global alignement - optimizing for:\n",
      "['pw_poses', 'im_depthmaps.0', 'im_depthmaps.1', 'im_depthmaps.2', 'im_depthmaps.3', 'im_depthmaps.4', 'im_depthmaps.5', 'im_depthmaps.6', 'im_depthmaps.7', 'im_depthmaps.8', 'im_depthmaps.9', 'im_depthmaps.10', 'im_depthmaps.11', 'im_depthmaps.12', 'im_depthmaps.13', 'im_depthmaps.14', 'im_depthmaps.15', 'im_depthmaps.16', 'im_depthmaps.17', 'im_depthmaps.18', 'im_depthmaps.19', 'im_depthmaps.20', 'im_depthmaps.21', 'im_depthmaps.22', 'im_depthmaps.23', 'im_depthmaps.24', 'im_depthmaps.25', 'im_depthmaps.26', 'im_depthmaps.27', 'im_depthmaps.28', 'im_depthmaps.29', 'im_depthmaps.30', 'im_depthmaps.31', 'im_depthmaps.32', 'im_depthmaps.33', 'im_depthmaps.34', 'im_depthmaps.35', 'im_depthmaps.36', 'im_depthmaps.37', 'im_depthmaps.38', 'im_depthmaps.39', 'im_depthmaps.40', 'im_depthmaps.41', 'im_depthmaps.42', 'im_depthmaps.43', 'im_poses.0', 'im_poses.1', 'im_poses.2', 'im_poses.3', 'im_poses.4', 'im_poses.5', 'im_poses.6', 'im_poses.7', 'im_poses.8', 'im_poses.9', 'im_poses.10', 'im_poses.11', 'im_poses.12', 'im_poses.13', 'im_poses.14', 'im_poses.15', 'im_poses.16', 'im_poses.17', 'im_poses.18', 'im_poses.19', 'im_poses.20', 'im_poses.21', 'im_poses.22', 'im_poses.23', 'im_poses.24', 'im_poses.25', 'im_poses.26', 'im_poses.27', 'im_poses.28', 'im_poses.29', 'im_poses.30', 'im_poses.31', 'im_poses.32', 'im_poses.33', 'im_poses.34', 'im_poses.35', 'im_poses.36', 'im_poses.37', 'im_poses.38', 'im_poses.39', 'im_poses.40', 'im_poses.41', 'im_poses.42', 'im_poses.43', 'im_focals.0', 'im_focals.1', 'im_focals.2', 'im_focals.3', 'im_focals.4', 'im_focals.5', 'im_focals.6', 'im_focals.7', 'im_focals.8', 'im_focals.9', 'im_focals.10', 'im_focals.11', 'im_focals.12', 'im_focals.13', 'im_focals.14', 'im_focals.15', 'im_focals.16', 'im_focals.17', 'im_focals.18', 'im_focals.19', 'im_focals.20', 'im_focals.21', 'im_focals.22', 'im_focals.23', 'im_focals.24', 'im_focals.25', 'im_focals.26', 'im_focals.27', 'im_focals.28', 'im_focals.29', 'im_focals.30', 'im_focals.31', 'im_focals.32', 'im_focals.33', 'im_focals.34', 'im_focals.35', 'im_focals.36', 'im_focals.37', 'im_focals.38', 'im_focals.39', 'im_focals.40', 'im_focals.41', 'im_focals.42', 'im_focals.43']\n"
     ]
    },
    {
     "name": "stderr",
     "output_type": "stream",
     "text": [
      "100%|██████████| 3000/3000 [21:31<00:00,  2.32it/s, lr=1.00274e-06 loss=5.78471e-05]\n"
     ]
    }
   ],
   "source": [
    "#init_scene = global_aligner(output, device=device, mode=GlobalAlignerMode.PlanePointCloudOptimizer)\n",
    "#loss = init_scene.compute_global_alignment(init=\"mst\", niter=niter, schedule='cosine', lr=lr)\n",
    "\n",
    "#scene = init_scene\n",
    "\n",
    "scene = global_aligner(output, device=device, mode=GlobalAlignerMode.PlanePointCloudOptimizer, \n",
    "                        weight_focal = INIT_WEIGHT_FOCAL,\n",
    "                        weight_z = INIT_WEIGHT_Z ,\n",
    "                        weight_rot = INIT_WEIGHT_ROT  ,\n",
    "                        weight_trans_smoothness = INIT_WEIGHT_TRANS_SMOOTHNESS,\n",
    "                        weight_rot_smoothness = INIT_WEIGHT_ROT_SMOOTHNESS)\n",
    "#scene.im_poses = calculate_new_params(init_scene.im_poses,device)\n",
    "#scene.im_focals = init_scene.im_focals\n",
    "loss = scene.compute_global_alignment(init=\"mst\", niter=niter*10, schedule=schedule, lr=lr)\n",
    "\n",
    "#averge_focal = scene.get_focals().sum().item()/len(images_array)\n",
    "#fixed_focal = [averge_focal for _ in range(len(images_array))]\n",
    "#mask = [True for _ in range(len(images_array))]\n",
    "#scene.preset_focal(fixed_focal, mask)\n",
    "#loss = scene.compute_global_alignment(init=\"mst\", niter=niter, schedule=schedule, lr=lr)\n",
    "\n",
    "#scene.weight_focal = INIT_WEIGHT_FOCAL\n",
    "#scene.weight_z = INIT_WEIGHT_Z \n",
    "#scene.weight_rot = INIT_WEIGHT_ROT\n",
    "#scene.weight_trans_smoothness = INIT_WEIGHT_TRANS_SMOOTHNESS \n",
    "#scene.weight_rot_smoothness = INIT_WEIGHT_ROT_SMOOTHNESS\n",
    "#loss = global_alignment_loop(scene, niter=niter, schedule=schedule, lr=lr)\n"
   ]
  },
  {
   "cell_type": "code",
   "execution_count": 8,
   "metadata": {},
   "outputs": [],
   "source": [
    "imgs = scene.imgs\n",
    "focals = scene.get_focals()\n",
    "poses = scene.get_im_poses()\n",
    "pts3d = scene.get_pts3d()\n",
    "confidence_masks = scene.get_masks()\n",
    "intrinsics = scene.get_intrinsics()"
   ]
  },
  {
   "cell_type": "code",
   "execution_count": 9,
   "metadata": {},
   "outputs": [],
   "source": [
    "#Check if pointclouds folder exists\n",
    "#If exists, delete all files in the folder\n",
    "if os.path.exists(\"{DATA_PATH}/pointclouds\".format(DATA_PATH=DATA_PATH)):\n",
    "    for file in os.listdir(\"{DATA_PATH}/pointclouds\".format(DATA_PATH=DATA_PATH)):\n",
    "        os.remove(\"{DATA_PATH}/pointclouds/{file}\".format(DATA_PATH=DATA_PATH, file=file))\n",
    "        \n",
    "if not os.path.exists(\"{DATA_PATH}/pointclouds\".format(DATA_PATH=DATA_PATH)):\n",
    "    os.makedirs(\"{DATA_PATH}/pointclouds\".format(DATA_PATH=DATA_PATH))\n",
    "\n",
    "for i in range(len(images)):\n",
    "    pointcloud = pts3d[i].detach().cpu().numpy()\n",
    "    pointcloud = pointcloud.reshape(-1, 3)\n",
    "    color = imgs[i].reshape(-1, 3)\n",
    "    confidence_mask = confidence_masks[i].detach().cpu().numpy()\n",
    "    confidence_mask = confidence_mask.reshape(-1)\n",
    "    \n",
    "    masked_pointcloud = []\n",
    "    masked_color = []\n",
    "\n",
    "    for j in range(len(confidence_mask)):\n",
    "        if confidence_mask[j]:\n",
    "            masked_pointcloud.append(pointcloud[j])\n",
    "            masked_color.append(color[j])\n",
    "\n",
    "    pcd = o3d.geometry.PointCloud()\n",
    "    pcd.points = o3d.utility.Vector3dVector(masked_pointcloud)\n",
    "    pcd.colors = o3d.utility.Vector3dVector(masked_color)\n",
    "    o3d.io.write_point_cloud(\"{DATA_PATH}/pointclouds/pointcloud{i}.ply\".format(DATA_PATH=DATA_PATH, i=i), pcd)"
   ]
  },
  {
   "cell_type": "code",
   "execution_count": 10,
   "metadata": {},
   "outputs": [],
   "source": [
    "#Create transform file\n",
    "\n",
    "img = Image.open(images_array[0])\n",
    "width, height = img.size\n",
    "RESCALE_FACTOR  = width/512\n",
    "\n",
    "transforms = {}\n",
    "transforms[\"camera_model\"] = \"OPENCV\"\n",
    "if USE_COMMON_INTRINSICS:\n",
    "    intrinsic_mean = intrinsics.mean(dim=0)\n",
    "    transforms[\"fl_x\"] = intrinsic_mean[0,0].item() * RESCALE_FACTOR\n",
    "    transforms[\"fl_y\"] = intrinsic_mean[1,1].item() * RESCALE_FACTOR\n",
    "    transforms[\"w\"] = width \n",
    "    transforms[\"h\"] = height \n",
    "    transforms[\"cx\"] = intrinsic_mean[0,2].item() * RESCALE_FACTOR\n",
    "    transforms[\"cy\"] = intrinsic_mean[1,2].item() * RESCALE_FACTOR\n",
    "\n",
    "transforms[\"frames\"] = []\n",
    "\n",
    "OPENGL = np.array([[1, 0, 0, 0],\n",
    "                    [0, -1, 0, 0],\n",
    "                    [0, 0, -1, 0],\n",
    "                    [0, 0, 0, 1]])\n",
    "\n",
    "for i in range(len(poses)):\n",
    "    if not((confidence_masks[i]==0).all()):\n",
    "        frame = {}\n",
    "        frame[\"file_path\"] = \"/\".join(images_array[i].split(\"/\")[-2:])\n",
    "        frame[\"transform_matrix\"] = np.linalg.inv(poses[i].detach().cpu().numpy()).tolist()\n",
    "        #frame[\"transform_matrix\"] = np.dot(poses[i].detach().cpu().numpy(),OPENGL).tolist()\n",
    "        frame[\"mask_path\"] = \"/\".join(masks_array[i].split(\"/\")[-2:])\n",
    "        transforms[\"frames\"].append(frame)\n",
    "        \n",
    "        if not USE_COMMON_INTRINSICS:\n",
    "            frame[\"fl_x\"] = intrinsics[i,0,0].item() * RESCALE_FACTOR\n",
    "            frame[\"fl_y\"] = intrinsics[i,1,1].item() * RESCALE_FACTOR\n",
    "            frame[\"cx\"] = intrinsics[i,0,2].item() * RESCALE_FACTOR\n",
    "            frame[\"cy\"] = intrinsics[i,1,2].item() * RESCALE_FACTOR\n",
    "            img = Image.open(images_array[i])\n",
    "            width, height = img.size\n",
    "            transforms[\"w\"] = width \n",
    "            transforms[\"h\"] = height \n",
    "\n",
    "#Save transform file\n",
    "with open(\"{}/transforms.json\".format(DATA_PATH), 'w') as f:\n",
    "    json.dump(transforms, f, indent=4)"
   ]
  },
  {
   "cell_type": "code",
   "execution_count": 11,
   "metadata": {},
   "outputs": [
    {
     "name": "stdout",
     "output_type": "stream",
     "text": [
      "tensor([ 0.0992, -0.0907, -0.0914, -0.0017,  0.0217,  0.0216,  0.0330,  0.0329,\n",
      "         0.0394,  0.0446,  0.0505,  0.0554,  0.0597,  0.0625,  0.0643,  0.0642,\n",
      "         0.0660,  0.0685,  0.0704,  0.0728,  0.0761,  0.0793,  0.0813,  0.0832,\n",
      "         0.0848,  0.0860,  0.0872,  0.0881,  0.0885,  0.0888,  0.0891,  0.0894,\n",
      "         0.0896,  0.0899,  0.0902,  0.0906,  0.0911,  0.0917,  0.0924,  0.0933,\n",
      "         0.0933,  0.0950,  0.0968,  0.0992], device='cuda:0',\n",
      "       grad_fn=<DivBackward0>)\n"
     ]
    }
   ],
   "source": [
    "import roma\n",
    "\n",
    "all_poses = torch.stack(list(scene.im_poses))\n",
    "Q = all_poses[:,:4]\n",
    "Q = torch.nn.functional.normalize(Q, p=2, dim=1)\n",
    "T = signed_expm1(all_poses[:,4:7])\n",
    "tf = roma.RigidUnitQuat(Q, T).normalize().to_homogeneous()\n",
    "\n",
    "OPENGL = torch.tensor([[1, 0, 0, 0],\n",
    "                       [0, -1, 0, 0],\n",
    "                       [0, 0, -1, 0],\n",
    "                       [0, 0, 0, 1]], dtype=torch.float32).to(device)\n",
    "\n",
    "tf = torch.matmul(tf, OPENGL)\n",
    "\n",
    "tf = roma.RigidUnitQuat(Q, T).normalize()\n",
    "print(tf.linear[:,0]/tf.linear[:,3])"
   ]
  }
 ],
 "metadata": {
  "kernelspec": {
   "display_name": "Python 3 (ipykernel)",
   "language": "python",
   "name": "python3"
  },
  "language_info": {
   "codemirror_mode": {
    "name": "ipython",
    "version": 3
   },
   "file_extension": ".py",
   "mimetype": "text/x-python",
   "name": "python",
   "nbconvert_exporter": "python",
   "pygments_lexer": "ipython3",
   "version": "3.10.12"
  }
 },
 "nbformat": 4,
 "nbformat_minor": 2
}
