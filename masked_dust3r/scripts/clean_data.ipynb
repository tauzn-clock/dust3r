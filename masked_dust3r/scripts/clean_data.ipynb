{
 "cells": [
  {
   "cell_type": "code",
   "execution_count": 9,
   "metadata": {},
   "outputs": [],
   "source": [
    "import sys\n",
    "sys.path.append('../')\n",
    "\n",
    "import os\n",
    "import json\n",
    "import numpy as np\n",
    "import matplotlib.pyplot as plt\n",
    "from scipy.spatial.transform import Rotation as R\n",
    "\n",
    "DATA_PATH = \"/dust3r/masked_dust3r/data/jackal_training_data_0\"\n",
    "\n",
    "with open(os.path.join(DATA_PATH, \"transforms.json\"), \"r\") as f:\n",
    "    transforms = json.load(f)"
   ]
  },
  {
   "cell_type": "code",
   "execution_count": 10,
   "metadata": {},
   "outputs": [
    {
     "name": "stdout",
     "output_type": "stream",
     "text": [
      "z\n",
      "0.09464387508939455\n",
      "0.23784152137754427\n",
      "-0.06390108288485105\n",
      "roll\n",
      "-115.88693767155085\n",
      "179.9526452217328\n",
      "-179.16341359749518\n",
      "pitch\n",
      "1.3326796908128693\n",
      "43.2089762182229\n",
      "-43.33539049666404\n"
     ]
    }
   ],
   "source": [
    "tf = []\n",
    "for f in transforms[\"frames\"]:\n",
    "    tf.append(np.array(f[\"transform_matrix\"]))\n",
    "tf = np.array(tf)\n",
    "\n",
    "#Set z to 0\n",
    "print(\"z\")\n",
    "print(tf[:, 2, 3].mean())\n",
    "print(tf[:, 2, 3].max())\n",
    "print(tf[:, 2, 3].min())\n",
    "tf[:, 2, 3] = 0\n",
    "\n",
    "#Find the euler angles\n",
    "euler = []\n",
    "for i in range(tf.shape[0]):\n",
    "    r = R.from_matrix(tf[i, :3, :3])\n",
    "    euler.append(r.as_euler(\"xyz\", degrees=True))\n",
    "euler = np.array(euler)\n",
    "print(\"roll\")\n",
    "print(euler[:, 0].mean())\n",
    "print(euler[:, 0].max())\n",
    "print(euler[:, 0].min())\n",
    "\n",
    "if (euler[:,0] > 180).any():\n",
    "    euler[:,0] -= 360\n",
    "euler[:,0] = euler[:,0].mean()\n",
    "#euler[:,0] = -135\n",
    "\n",
    "print(\"pitch\")\n",
    "print(euler[:, 1].mean())\n",
    "print(euler[:, 1].max())\n",
    "print(euler[:, 1].min())\n",
    "euler[:, 1] = euler[:,1].mean()\n",
    "\n",
    "#Convert back to rotation matrix\n",
    "tf_new = []\n",
    "for i in range(tf.shape[0]):\n",
    "    r = R.from_euler(\"xyz\", euler[i], degrees=True)\n",
    "    tf_new.append(r.as_matrix())\n",
    "tf_new = np.array(tf_new)\n",
    "\n",
    "tf[:, :3, :3] = tf_new\n",
    "\n",
    "for i in range(tf.shape[0]):\n",
    "    transforms[\"frames\"][i][\"transform_matrix\"] = tf[i].tolist()\n",
    "\n",
    "with open(os.path.join(DATA_PATH, \"transforms.json\"), \"w\") as f:\n",
    "    json.dump(transforms, f, indent=4)"
   ]
  }
 ],
 "metadata": {
  "language_info": {
   "name": "python"
  }
 },
 "nbformat": 4,
 "nbformat_minor": 2
}
