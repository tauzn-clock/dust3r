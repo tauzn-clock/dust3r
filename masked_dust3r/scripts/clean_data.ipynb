{
 "cells": [
  {
   "cell_type": "code",
   "execution_count": 5,
   "metadata": {},
   "outputs": [],
   "source": [
    "import sys\n",
    "sys.path.append('../')\n",
    "\n",
    "import os\n",
    "import json\n",
    "import numpy as np\n",
    "import matplotlib.pyplot as plt\n",
    "from scipy.spatial.transform import Rotation as R\n",
    "\n",
    "DATA_PATH = \"/dust3r/masked_dust3r/data/jackal_training_data_0\"\n",
    "\n",
    "with open(os.path.join(DATA_PATH, \"transforms.json\"), \"r\") as f:\n",
    "    transforms = json.load(f)"
   ]
  },
  {
   "cell_type": "code",
   "execution_count": 6,
   "metadata": {},
   "outputs": [
    {
     "name": "stdout",
     "output_type": "stream",
     "text": [
      "z\n",
      "0.1655770603641213\n",
      "0.33607015013694763\n",
      "0.0\n",
      "roll\n",
      "42.578652349658526\n",
      "85.39781007614168\n",
      "-0.2012905186179904\n",
      "pitch\n",
      "-0.6531906776686389\n",
      "42.26775659413379\n",
      "-40.41189378190171\n"
     ]
    }
   ],
   "source": [
    "tf = []\n",
    "for f in transforms[\"frames\"]:\n",
    "    tf.append(np.array(f[\"transform_matrix\"]))\n",
    "tf = np.array(tf)\n",
    "\n",
    "#Set z to 0\n",
    "print(\"z\")\n",
    "print(tf[:, 2, 3].mean())\n",
    "print(tf[:, 2, 3].max())\n",
    "print(tf[:, 2, 3].min())\n",
    "tf[:, 2, 3] = 0\n",
    "\n",
    "#Find the euler angles\n",
    "euler = []\n",
    "for i in range(tf.shape[0]):\n",
    "    r = R.from_matrix(tf[i, :3, :3])\n",
    "    euler.append(r.as_euler(\"xyz\", degrees=True))\n",
    "euler = np.array(euler)\n",
    "print(\"roll\")\n",
    "print(euler[:, 0].mean())\n",
    "print(euler[:, 0].max())\n",
    "print(euler[:, 0].min())\n",
    "\n",
    "if (euler[:,0] > 180).any():\n",
    "    euler[:,0] -= 360\n",
    "euler[:,0] = euler[:,0].mean()\n",
    "#euler[:,0] = -135\n",
    "\n",
    "print(\"pitch\")\n",
    "print(euler[:, 1].mean())\n",
    "print(euler[:, 1].max())\n",
    "print(euler[:, 1].min())\n",
    "euler[:, 1] = euler[:,1].mean()\n",
    "\n",
    "#Convert back to rotation matrix\n",
    "tf_new = []\n",
    "for i in range(tf.shape[0]):\n",
    "    r = R.from_euler(\"xyz\", euler[i], degrees=True)\n",
    "    tf_new.append(r.as_matrix())\n",
    "tf_new = np.array(tf_new)\n",
    "\n",
    "tf[:, :3, :3] = tf_new\n",
    "\n",
    "for i in range(tf.shape[0]):\n",
    "    transforms[\"frames\"][i][\"transform_matrix\"] = tf[i].tolist()\n",
    "\n",
    "with open(os.path.join(DATA_PATH, \"transforms.json\"), \"w\") as f:\n",
    "    json.dump(transforms, f, indent=4)"
   ]
  }
 ],
 "metadata": {
  "language_info": {
   "name": "python"
  }
 },
 "nbformat": 4,
 "nbformat_minor": 2
}
